{
  "nbformat": 4,
  "nbformat_minor": 0,
  "metadata": {
    "colab": {
      "name": "ReinforcementLearning.ipynb",
      "provenance": [],
      "authorship_tag": "ABX9TyPEpdkfGf7wf9jqpCcymO+T",
      "include_colab_link": true
    },
    "kernelspec": {
      "name": "python3",
      "display_name": "Python 3"
    },
    "language_info": {
      "name": "python"
    },
    "accelerator": "GPU",
    "gpuClass": "standard"
  },
  "cells": [
    {
      "cell_type": "markdown",
      "metadata": {
        "id": "view-in-github",
        "colab_type": "text"
      },
      "source": [
        "<a href=\"https://colab.research.google.com/github/SXV357/Inspirit-AI-Deep-Dive-Designing-DL-Systems-Notebooks/blob/main/ReinforcementLearning.ipynb\" target=\"_parent\"><img src=\"https://colab.research.google.com/assets/colab-badge.svg\" alt=\"Open In Colab\"/></a>"
      ]
    },
    {
      "cell_type": "code",
      "execution_count": 2,
      "metadata": {
        "id": "C1zxaCle5pxA"
      },
      "outputs": [],
      "source": [
        "import random\n",
        "from collections import Counter\n",
        "import numpy as np\n",
        "import matplotlib.pyplot as plt\n",
        "import matplotlib.patches as mpatches\n",
        "from matplotlib import cm\n",
        "import gym\n",
        "from IPython.display import HTML\n",
        "\n",
        "import tqdm\n",
        "\n",
        "ats = {1: \"hit\", 0:\"stay\"}\n",
        "\n",
        "def play_blackjack(epsilon, print_steps=False):\n",
        "  game = []\n",
        "  state = blackjack.reset()\n",
        "  game_over = False\n",
        "  while game_over == False:\n",
        "      if print_steps: \n",
        "        print(\"Your cards: \", blackjack.player)\n",
        "        print_state(state)\n",
        "      action = epsilon_greedy(state, epsilon)\n",
        "      if print_steps: print(f\"Agents chooses to {ats[action]}\")\n",
        "      next_state, reward, game_over, _ = blackjack.step(action)\n",
        "      game.append((state, action))\n",
        "      state = next_state\n",
        "      if game_over:\n",
        "        if print_steps:\n",
        "          print(\"Your cards: \", blackjack.player)\n",
        "          print_state(state)\n",
        "          print(\"Game over!\")\n",
        "          print(f\"Dealer has {blackjack.dealer}\")\n",
        "          print(rtm[reward])\n",
        "        game.append(reward)    \n",
        "  return game\n",
        "\n",
        "def get_best_action(hand_val, dealer_card, usable_ace):\n",
        "    state = (hand_val, dealer_card, usable_ace)\n",
        "\n",
        "    # Compute Q(state, True)\n",
        "    if num_games[(state,True)] == 0:\n",
        "      Q_state_true = 0\n",
        "    else:\n",
        "      Q_state_true = sum_rewards[(state,True)] / num_games[(state,True)]\n",
        "    \n",
        "    # Compute Q(state, False)\n",
        "    if num_games[(state,False)] == 0:\n",
        "      Q_state_false = 0\n",
        "    else:\n",
        "      Q_state_false = sum_rewards[(state,False)] / num_games[(state,False)]\n",
        "\n",
        "    return Q_state_true >= Q_state_false\n",
        "\n",
        "def make_subplot(ax, usable_ace):\n",
        "    x_coords = np.arange(1, 11) # dealer's cards\n",
        "    y_coords = np.arange(11, 22) # gambler's hand values\n",
        "    Z = np.array([[get_best_action(y, x, usable_ace) for x in x_coords] for y in y_coords])\n",
        "    surf = ax.imshow(Z, cmap=plt.get_cmap('Set1', 2), extent=[0.5, 10.5, 21.5, 10.5])\n",
        "    plt.xticks(x_coords)\n",
        "    plt.yticks(y_coords)\n",
        "    plt.gca().invert_yaxis()\n",
        "    ax.set_xlabel('Dealer Showing')\n",
        "    ax.set_ylabel('Player Sum')\n",
        "    col1_patch = mpatches.Patch(color='darkgray', label='Hit')\n",
        "    col2_patch = mpatches.Patch(color='red', label='Stick')\n",
        "    plt.legend(handles=[col1_patch, col2_patch])\n",
        "\n",
        "def plot_strategy():\n",
        "  fig = plt.figure(figsize=(13, 13))\n",
        "  ax = fig.add_subplot(121)\n",
        "  ax.set_title('Usable Ace')\n",
        "  make_subplot(ax, True)\n",
        "  ax = fig.add_subplot(122)\n",
        "  ax.set_title('No Usable Ace')\n",
        "  make_subplot(ax, False)\n",
        "  plt.show()\n",
        "\n",
        "def best_action(state):\n",
        "  if num_games[(state,True)] == 0:\n",
        "    Q_state_true = 0\n",
        "  else:\n",
        "    Q_state_true = sum_rewards[(state,True)] / num_games[(state,True)]\n",
        "  \n",
        "  # Compute Q(state, False)\n",
        "  if num_games[(state,False)] == 0:\n",
        "    Q_state_false = 0\n",
        "  else:\n",
        "    Q_state_false = sum_rewards[(state,False)] / num_games[(state,False)]\n",
        "\n",
        "  return Q_state_true >= Q_state_false\n",
        "\n",
        "\n",
        "def print_state(state):\n",
        "  print()\n",
        "  print(\"Hand value:\", state[0])\n",
        "  print(\"Dealer's card:\", state[1])\n",
        "  print(\"Useable ace?:\", state[2])\n",
        "  print(\"-----\")\n",
        "\n",
        "rtm = {0:\"It's a tie!\", -1: \"You lose!\", 1:\"You win!\"}\n",
        "def play_human(blackjack):\n",
        "  print()\n",
        "  state = blackjack.reset()\n",
        "  print(\"Your cards: \", blackjack.player)\n",
        "  print(\"Hand value:\", state[0])\n",
        "  print(\"Dealer's card:\", state[1])\n",
        "  print(\"Useable ace?:\", state[2])\n",
        "  print(\"-----\")\n",
        "\n",
        "  while True:\n",
        "    move = input('1 for hit 0 for stay: ') == '1'\n",
        "    state, reward, game_over, _ = blackjack.step(move)\n",
        "    print(\"Your cards: \", blackjack.player)\n",
        "    print(\"Hand value:\", state[0])\n",
        "    print(\"Dealer's card:\", state[1])\n",
        "    print(\"Useable ace?:\", state[2])\n",
        "    print(\"-----\")\n",
        "    if game_over:\n",
        "      print(\"Game over!\")\n",
        "      print(f\"Dealer has {blackjack.dealer}\")\n",
        "      print(rtm[reward])\n",
        "      break\n",
        "  return reward\n",
        "\n",
        "def play_n_times(blackjack, n):\n",
        "  return np.mean([play_human(blackjack) for _ in range(n)])\n",
        "\n",
        "sum_rewards = Counter()\n",
        "num_games = Counter()"
      ]
    },
    {
      "cell_type": "code",
      "source": [
        "blackjack = gym.make('Blackjack-v0')\n",
        "play_human(blackjack)"
      ],
      "metadata": {
        "colab": {
          "base_uri": "https://localhost:8080/"
        },
        "id": "-yDMlUcJ54b0",
        "outputId": "215c29dd-dd42-448f-db35-b36b3931cdd8"
      },
      "execution_count": 3,
      "outputs": [
        {
          "output_type": "stream",
          "name": "stdout",
          "text": [
            "\n",
            "Your cards:  [4, 3]\n",
            "Hand value: 7\n",
            "Dealer's card: 5\n",
            "Useable ace?: False\n",
            "-----\n",
            "1 for hit 0 for stay: 1\n",
            "Your cards:  [4, 3, 5]\n",
            "Hand value: 12\n",
            "Dealer's card: 5\n",
            "Useable ace?: False\n",
            "-----\n",
            "1 for hit 0 for stay: 1\n",
            "Your cards:  [4, 3, 5, 10]\n",
            "Hand value: 22\n",
            "Dealer's card: 5\n",
            "Useable ace?: False\n",
            "-----\n",
            "Game over!\n",
            "Dealer has [5, 1]\n",
            "You lose!\n"
          ]
        },
        {
          "output_type": "execute_result",
          "data": {
            "text/plain": [
              "-1.0"
            ]
          },
          "metadata": {},
          "execution_count": 3
        }
      ]
    },
    {
      "cell_type": "code",
      "source": [
        "q_traffic = {('red', 'go'):-1, ('green', 'go'):1, (\"red\", 'stop'):1, ('green', 'stop'):-0.5}\n",
        "actions_traffic = ['go', 'stop']\n",
        "\n",
        "actions_black_jack = ['hit', 'stay']\n",
        "q_black_jack = {(21, 'hit'): -1, (21, 'stay'): 1}\n",
        "\n",
        "# for every Q associated state and action(how good is decision)\n",
        "# each tuple has state and action('red', 'go')\n"
      ],
      "metadata": {
        "id": "8Zow2cnP5_EI"
      },
      "execution_count": 5,
      "outputs": []
    },
    {
      "cell_type": "code",
      "source": [
        "def q_policy_implementation(s, q):\n",
        "  \"\"\"\n",
        "  s:       is the state\n",
        "  q:       is a dictionary mapping tuples (s, a) to their value Q(s, a)\n",
        "           i.e q[(s, a)] gets the value of (s, a).\n",
        "  \"\"\"\n",
        "  best_action, best_value = None, -1000\n",
        "  for (state, action), val in q.items():\n",
        "    if val > best_value and state == s:\n",
        "      best_value = val\n",
        "      best_action = action\n",
        "     \n",
        "  print (\"State:\",s,\"Best Action:\",best_action)\n",
        "  return (best_action)"
      ],
      "metadata": {
        "id": "U40Gccdg6D8z"
      },
      "execution_count": 6,
      "outputs": []
    },
    {
      "cell_type": "code",
      "source": [
        "q_policy_implementation('red', q_traffic)\n",
        "q_policy_implementation(21, q_black_jack)"
      ],
      "metadata": {
        "colab": {
          "base_uri": "https://localhost:8080/",
          "height": 70
        },
        "id": "FDWjPr_a6Iu8",
        "outputId": "126a6042-42f6-4abc-811e-c7bde1aa56ac"
      },
      "execution_count": 7,
      "outputs": [
        {
          "output_type": "stream",
          "name": "stdout",
          "text": [
            "State: red Best Action: stop\n",
            "State: 21 Best Action: stay\n"
          ]
        },
        {
          "output_type": "execute_result",
          "data": {
            "text/plain": [
              "'stay'"
            ],
            "application/vnd.google.colaboratory.intrinsic+json": {
              "type": "string"
            }
          },
          "metadata": {},
          "execution_count": 7
        }
      ]
    },
    {
      "cell_type": "code",
      "source": [
        "def update_counters(game):\n",
        "    reward = game[-1]\n",
        "    for state_action_tuple in game[:-1]:\n",
        "        sum_rewards[state_action_tuple] += reward\n",
        "        num_games[state_action_tuple] += 1\n",
        "    return sum_rewards, num_games"
      ],
      "metadata": {
        "id": "UW4WSjo76Kco"
      },
      "execution_count": 8,
      "outputs": []
    },
    {
      "cell_type": "code",
      "source": [
        "def epsilon_greedy(state, epsilon):\n",
        "\n",
        "  # Return best_action with probability 1-epsilon\n",
        "  if np.random.rand() > epsilon:\n",
        "    return best_action(state)\n",
        "  \n",
        "  # Otherwise, return random action\n",
        "  else:\n",
        "    return np.random.choice([0,1])"
      ],
      "metadata": {
        "id": "aCSbMyQr6Pwt"
      },
      "execution_count": 9,
      "outputs": []
    },
    {
      "cell_type": "code",
      "source": [
        "epsilon = 0.15\n",
        "sum_rewards = Counter()\n",
        "num_games = Counter()\n",
        "\n",
        "for iteration in tqdm.tqdm(range(1000000)):\n",
        "  game = play_blackjack(epsilon)\n",
        "  update_counters(game)\n"
      ],
      "metadata": {
        "colab": {
          "base_uri": "https://localhost:8080/"
        },
        "id": "-A5Y_11f6RBq",
        "outputId": "3e71a022-9584-469e-f0b5-926dc12c65eb"
      },
      "execution_count": 10,
      "outputs": [
        {
          "output_type": "stream",
          "name": "stderr",
          "text": [
            "100%|██████████| 1000000/1000000 [02:24<00:00, 6939.69it/s]\n"
          ]
        }
      ]
    },
    {
      "cell_type": "code",
      "source": [
        "# testing agent\n",
        "play_blackjack(epsilon=0, print_steps=True)"
      ],
      "metadata": {
        "colab": {
          "base_uri": "https://localhost:8080/"
        },
        "id": "pjL2kc447AXK",
        "outputId": "1a4ea457-1f73-414e-909c-7a94fe7ba37f"
      },
      "execution_count": 11,
      "outputs": [
        {
          "output_type": "stream",
          "name": "stdout",
          "text": [
            "Your cards:  [10, 10]\n",
            "\n",
            "Hand value: 20\n",
            "Dealer's card: 8\n",
            "Useable ace?: False\n",
            "-----\n",
            "Agents chooses to stay\n",
            "Your cards:  [10, 10]\n",
            "\n",
            "Hand value: 20\n",
            "Dealer's card: 8\n",
            "Useable ace?: False\n",
            "-----\n",
            "Game over!\n",
            "Dealer has [8, 10]\n",
            "You win!\n"
          ]
        },
        {
          "output_type": "execute_result",
          "data": {
            "text/plain": [
              "[((20, 8, False), False), 1.0]"
            ]
          },
          "metadata": {},
          "execution_count": 11
        }
      ]
    },
    {
      "cell_type": "code",
      "source": [
        "# strategy visualization\n",
        "plot_strategy()"
      ],
      "metadata": {
        "colab": {
          "base_uri": "https://localhost:8080/",
          "height": 441
        },
        "id": "JKHZXnPk7FU2",
        "outputId": "31a518fc-7ab7-4ed0-cb73-41fb062b7cd8"
      },
      "execution_count": 12,
      "outputs": [
        {
          "output_type": "display_data",
          "data": {
            "text/plain": [
              "<Figure size 936x936 with 2 Axes>"
            ],
            "image/png": "[encoded data removed]"
          },
          "metadata": {
            "needs_background": "light"
          }
        }
      ]
    }
  ]
}