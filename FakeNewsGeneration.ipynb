{
  "nbformat": 4,
  "nbformat_minor": 0,
  "metadata": {
    "colab": {
      "name": "FakeNewsGeneration.ipynb",
      "provenance": [],
      "authorship_tag": "ABX9TyPyDttuqORACsCdBcLT7Zui",
      "include_colab_link": true
    },
    "kernelspec": {
      "name": "python3",
      "display_name": "Python 3"
    },
    "language_info": {
      "name": "python"
    },
    "accelerator": "GPU",
    "gpuClass": "standard",
    "widgets": {
      "application/vnd.jupyter.widget-state+json": {
        "d9395203a0094b1e9e00f0e61dec19fe": {
          "model_module": "@jupyter-widgets/controls",
          "model_name": "VBoxModel",
          "model_module_version": "1.5.0",
          "state": {
            "_dom_classes": [
              "widget-interact"
            ],
            "_model_module": "@jupyter-widgets/controls",
            "_model_module_version": "1.5.0",
            "_model_name": "VBoxModel",
            "_view_count": null,
            "_view_module": "@jupyter-widgets/controls",
            "_view_module_version": "1.5.0",
            "_view_name": "VBoxView",
            "box_style": "",
            "children": [
              "IPY_MODEL_cbf12731ac1e437e9b61b8479a063607",
              "IPY_MODEL_5a00c73398ac470c9e77134591f6d8b2"
            ],
            "layout": "IPY_MODEL_06699b18da734450a4b145c9fcc9ed4c"
          }
        },
        "cbf12731ac1e437e9b61b8479a063607": {
          "model_module": "@jupyter-widgets/controls",
          "model_name": "TextModel",
          "model_module_version": "1.5.0",
          "state": {
            "_dom_classes": [],
            "_model_module": "@jupyter-widgets/controls",
            "_model_module_version": "1.5.0",
            "_model_name": "TextModel",
            "_view_count": null,
            "_view_module": "@jupyter-widgets/controls",
            "_view_module_version": "1.5.0",
            "_view_name": "TextView",
            "continuous_update": true,
            "description": "text",
            "description_tooltip": null,
            "disabled": false,
            "layout": "IPY_MODEL_943d50685b14413289fb4b93ecc8c460",
            "placeholder": "​",
            "style": "IPY_MODEL_085b8d39c9744c1081f37271eaa0260f",
            "value": "abc"
          }
        },
        "5a00c73398ac470c9e77134591f6d8b2": {
          "model_module": "@jupyter-widgets/output",
          "model_name": "OutputModel",
          "model_module_version": "1.0.0",
          "state": {
            "_dom_classes": [],
            "_model_module": "@jupyter-widgets/output",
            "_model_module_version": "1.0.0",
            "_model_name": "OutputModel",
            "_view_count": null,
            "_view_module": "@jupyter-widgets/output",
            "_view_module_version": "1.0.0",
            "_view_name": "OutputView",
            "layout": "IPY_MODEL_cec7ba36fdf44cf9b85f285cbd649d36",
            "msg_id": "",
            "outputs": [
              {
                "output_type": "display_data",
                "data": {
                  "text/plain": "array([[1, 0, 0, 0, 0, 0, 0, 0, 0, 0, 0, 0, 0, 0, 0, 0, 0, 0, 0, 0, 0, 0,\n        0, 0, 0, 0, 0, 0, 0, 0, 0, 0, 0, 0, 0, 0, 0, 0, 0, 0, 0, 0, 0, 0,\n        0, 0, 0, 0, 0, 0, 0, 0, 0, 0, 0, 0, 0, 0, 0, 0, 0, 0, 0, 0, 0, 0,\n        0, 0, 0, 0],\n       [0, 1, 0, 0, 0, 0, 0, 0, 0, 0, 0, 0, 0, 0, 0, 0, 0, 0, 0, 0, 0, 0,\n        0, 0, 0, 0, 0, 0, 0, 0, 0, 0, 0, 0, 0, 0, 0, 0, 0, 0, 0, 0, 0, 0,\n        0, 0, 0, 0, 0, 0, 0, 0, 0, 0, 0, 0, 0, 0, 0, 0, 0, 0, 0, 0, 0, 0,\n        0, 0, 0, 0],\n       [0, 0, 1, 0, 0, 0, 0, 0, 0, 0, 0, 0, 0, 0, 0, 0, 0, 0, 0, 0, 0, 0,\n        0, 0, 0, 0, 0, 0, 0, 0, 0, 0, 0, 0, 0, 0, 0, 0, 0, 0, 0, 0, 0, 0,\n        0, 0, 0, 0, 0, 0, 0, 0, 0, 0, 0, 0, 0, 0, 0, 0, 0, 0, 0, 0, 0, 0,\n        0, 0, 0, 0]])"
                },
                "metadata": {}
              }
            ]
          }
        },
        "06699b18da734450a4b145c9fcc9ed4c": {
          "model_module": "@jupyter-widgets/base",
          "model_name": "LayoutModel",
          "model_module_version": "1.2.0",
          "state": {
            "_model_module": "@jupyter-widgets/base",
            "_model_module_version": "1.2.0",
            "_model_name": "LayoutModel",
            "_view_count": null,
            "_view_module": "@jupyter-widgets/base",
            "_view_module_version": "1.2.0",
            "_view_name": "LayoutView",
            "align_content": null,
            "align_items": null,
            "align_self": null,
            "border": null,
            "bottom": null,
            "display": null,
            "flex": null,
            "flex_flow": null,
            "grid_area": null,
            "grid_auto_columns": null,
            "grid_auto_flow": null,
            "grid_auto_rows": null,
            "grid_column": null,
            "grid_gap": null,
            "grid_row": null,
            "grid_template_areas": null,
            "grid_template_columns": null,
            "grid_template_rows": null,
            "height": null,
            "justify_content": null,
            "justify_items": null,
            "left": null,
            "margin": null,
            "max_height": null,
            "max_width": null,
            "min_height": null,
            "min_width": null,
            "object_fit": null,
            "object_position": null,
            "order": null,
            "overflow": null,
            "overflow_x": null,
            "overflow_y": null,
            "padding": null,
            "right": null,
            "top": null,
            "visibility": null,
            "width": null
          }
        },
        "943d50685b14413289fb4b93ecc8c460": {
          "model_module": "@jupyter-widgets/base",
          "model_name": "LayoutModel",
          "model_module_version": "1.2.0",
          "state": {
            "_model_module": "@jupyter-widgets/base",
            "_model_module_version": "1.2.0",
            "_model_name": "LayoutModel",
            "_view_count": null,
            "_view_module": "@jupyter-widgets/base",
            "_view_module_version": "1.2.0",
            "_view_name": "LayoutView",
            "align_content": null,
            "align_items": null,
            "align_self": null,
            "border": null,
            "bottom": null,
            "display": null,
            "flex": null,
            "flex_flow": null,
            "grid_area": null,
            "grid_auto_columns": null,
            "grid_auto_flow": null,
            "grid_auto_rows": null,
            "grid_column": null,
            "grid_gap": null,
            "grid_row": null,
            "grid_template_areas": null,
            "grid_template_columns": null,
            "grid_template_rows": null,
            "height": null,
            "justify_content": null,
            "justify_items": null,
            "left": null,
            "margin": null,
            "max_height": null,
            "max_width": null,
            "min_height": null,
            "min_width": null,
            "object_fit": null,
            "object_position": null,
            "order": null,
            "overflow": null,
            "overflow_x": null,
            "overflow_y": null,
            "padding": null,
            "right": null,
            "top": null,
            "visibility": null,
            "width": null
          }
        },
        "085b8d39c9744c1081f37271eaa0260f": {
          "model_module": "@jupyter-widgets/controls",
          "model_name": "DescriptionStyleModel",
          "model_module_version": "1.5.0",
          "state": {
            "_model_module": "@jupyter-widgets/controls",
            "_model_module_version": "1.5.0",
            "_model_name": "DescriptionStyleModel",
            "_view_count": null,
            "_view_module": "@jupyter-widgets/base",
            "_view_module_version": "1.2.0",
            "_view_name": "StyleView",
            "description_width": ""
          }
        },
        "cec7ba36fdf44cf9b85f285cbd649d36": {
          "model_module": "@jupyter-widgets/base",
          "model_name": "LayoutModel",
          "model_module_version": "1.2.0",
          "state": {
            "_model_module": "@jupyter-widgets/base",
            "_model_module_version": "1.2.0",
            "_model_name": "LayoutModel",
            "_view_count": null,
            "_view_module": "@jupyter-widgets/base",
            "_view_module_version": "1.2.0",
            "_view_name": "LayoutView",
            "align_content": null,
            "align_items": null,
            "align_self": null,
            "border": null,
            "bottom": null,
            "display": null,
            "flex": null,
            "flex_flow": null,
            "grid_area": null,
            "grid_auto_columns": null,
            "grid_auto_flow": null,
            "grid_auto_rows": null,
            "grid_column": null,
            "grid_gap": null,
            "grid_row": null,
            "grid_template_areas": null,
            "grid_template_columns": null,
            "grid_template_rows": null,
            "height": null,
            "justify_content": null,
            "justify_items": null,
            "left": null,
            "margin": null,
            "max_height": null,
            "max_width": null,
            "min_height": null,
            "min_width": null,
            "object_fit": null,
            "object_position": null,
            "order": null,
            "overflow": null,
            "overflow_x": null,
            "overflow_y": null,
            "padding": null,
            "right": null,
            "top": null,
            "visibility": null,
            "width": null
          }
        },
        "babba28787594f1e8d735d97237d3586": {
          "model_module": "@jupyter-widgets/controls",
          "model_name": "VBoxModel",
          "model_module_version": "1.5.0",
          "state": {
            "_dom_classes": [
              "widget-interact"
            ],
            "_model_module": "@jupyter-widgets/controls",
            "_model_module_version": "1.5.0",
            "_model_name": "VBoxModel",
            "_view_count": null,
            "_view_module": "@jupyter-widgets/controls",
            "_view_module_version": "1.5.0",
            "_view_name": "VBoxView",
            "box_style": "",
            "children": [
              "IPY_MODEL_fff42b3a8250406a9f51eb6402ed6b94",
              "IPY_MODEL_c4ef58a639de4184b83f930b096d0fca"
            ],
            "layout": "IPY_MODEL_ccb6b898487e44ccbe0b184c2d9e6ac8"
          }
        },
        "fff42b3a8250406a9f51eb6402ed6b94": {
          "model_module": "@jupyter-widgets/controls",
          "model_name": "TextModel",
          "model_module_version": "1.5.0",
          "state": {
            "_dom_classes": [],
            "_model_module": "@jupyter-widgets/controls",
            "_model_module_version": "1.5.0",
            "_model_name": "TextModel",
            "_view_count": null,
            "_view_module": "@jupyter-widgets/controls",
            "_view_module_version": "1.5.0",
            "_view_name": "TextView",
            "continuous_update": true,
            "description": "sequence",
            "description_tooltip": null,
            "disabled": false,
            "layout": "IPY_MODEL_a131c09fa7e44e47bbfcfbb413385af1",
            "placeholder": "​",
            "style": "IPY_MODEL_1cde13b5e9804d5da90968d96f7a587c",
            "value": "thytreaschgytrfgbnmklpoiqwasxdrtygfczaju"
          }
        },
        "c4ef58a639de4184b83f930b096d0fca": {
          "model_module": "@jupyter-widgets/output",
          "model_name": "OutputModel",
          "model_module_version": "1.0.0",
          "state": {
            "_dom_classes": [],
            "_model_module": "@jupyter-widgets/output",
            "_model_module_version": "1.0.0",
            "_model_name": "OutputModel",
            "_view_count": null,
            "_view_module": "@jupyter-widgets/output",
            "_view_module_version": "1.0.0",
            "_view_name": "OutputView",
            "layout": "IPY_MODEL_cded474b94934aedbd68593b140c5743",
            "msg_id": "",
            "outputs": [
              {
                "output_type": "display_data",
                "data": {
                  "text/plain": "<Figure size 432x288 with 1 Axes>",
                  "image/png": "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\n"
                },
                "metadata": {
                  "needs_background": "light"
                }
              }
            ]
          }
        },
        "ccb6b898487e44ccbe0b184c2d9e6ac8": {
          "model_module": "@jupyter-widgets/base",
          "model_name": "LayoutModel",
          "model_module_version": "1.2.0",
          "state": {
            "_model_module": "@jupyter-widgets/base",
            "_model_module_version": "1.2.0",
            "_model_name": "LayoutModel",
            "_view_count": null,
            "_view_module": "@jupyter-widgets/base",
            "_view_module_version": "1.2.0",
            "_view_name": "LayoutView",
            "align_content": null,
            "align_items": null,
            "align_self": null,
            "border": null,
            "bottom": null,
            "display": null,
            "flex": null,
            "flex_flow": null,
            "grid_area": null,
            "grid_auto_columns": null,
            "grid_auto_flow": null,
            "grid_auto_rows": null,
            "grid_column": null,
            "grid_gap": null,
            "grid_row": null,
            "grid_template_areas": null,
            "grid_template_columns": null,
            "grid_template_rows": null,
            "height": null,
            "justify_content": null,
            "justify_items": null,
            "left": null,
            "margin": null,
            "max_height": null,
            "max_width": null,
            "min_height": null,
            "min_width": null,
            "object_fit": null,
            "object_position": null,
            "order": null,
            "overflow": null,
            "overflow_x": null,
            "overflow_y": null,
            "padding": null,
            "right": null,
            "top": null,
            "visibility": null,
            "width": null
          }
        },
        "a131c09fa7e44e47bbfcfbb413385af1": {
          "model_module": "@jupyter-widgets/base",
          "model_name": "LayoutModel",
          "model_module_version": "1.2.0",
          "state": {
            "_model_module": "@jupyter-widgets/base",
            "_model_module_version": "1.2.0",
            "_model_name": "LayoutModel",
            "_view_count": null,
            "_view_module": "@jupyter-widgets/base",
            "_view_module_version": "1.2.0",
            "_view_name": "LayoutView",
            "align_content": null,
            "align_items": null,
            "align_self": null,
            "border": null,
            "bottom": null,
            "display": null,
            "flex": null,
            "flex_flow": null,
            "grid_area": null,
            "grid_auto_columns": null,
            "grid_auto_flow": null,
            "grid_auto_rows": null,
            "grid_column": null,
            "grid_gap": null,
            "grid_row": null,
            "grid_template_areas": null,
            "grid_template_columns": null,
            "grid_template_rows": null,
            "height": null,
            "justify_content": null,
            "justify_items": null,
            "left": null,
            "margin": null,
            "max_height": null,
            "max_width": null,
            "min_height": null,
            "min_width": null,
            "object_fit": null,
            "object_position": null,
            "order": null,
            "overflow": null,
            "overflow_x": null,
            "overflow_y": null,
            "padding": null,
            "right": null,
            "top": null,
            "visibility": null,
            "width": null
          }
        },
        "1cde13b5e9804d5da90968d96f7a587c": {
          "model_module": "@jupyter-widgets/controls",
          "model_name": "DescriptionStyleModel",
          "model_module_version": "1.5.0",
          "state": {
            "_model_module": "@jupyter-widgets/controls",
            "_model_module_version": "1.5.0",
            "_model_name": "DescriptionStyleModel",
            "_view_count": null,
            "_view_module": "@jupyter-widgets/base",
            "_view_module_version": "1.2.0",
            "_view_name": "StyleView",
            "description_width": ""
          }
        },
        "cded474b94934aedbd68593b140c5743": {
          "model_module": "@jupyter-widgets/base",
          "model_name": "LayoutModel",
          "model_module_version": "1.2.0",
          "state": {
            "_model_module": "@jupyter-widgets/base",
            "_model_module_version": "1.2.0",
            "_model_name": "LayoutModel",
            "_view_count": null,
            "_view_module": "@jupyter-widgets/base",
            "_view_module_version": "1.2.0",
            "_view_name": "LayoutView",
            "align_content": null,
            "align_items": null,
            "align_self": null,
            "border": null,
            "bottom": null,
            "display": null,
            "flex": null,
            "flex_flow": null,
            "grid_area": null,
            "grid_auto_columns": null,
            "grid_auto_flow": null,
            "grid_auto_rows": null,
            "grid_column": null,
            "grid_gap": null,
            "grid_row": null,
            "grid_template_areas": null,
            "grid_template_columns": null,
            "grid_template_rows": null,
            "height": null,
            "justify_content": null,
            "justify_items": null,
            "left": null,
            "margin": null,
            "max_height": null,
            "max_width": null,
            "min_height": null,
            "min_width": null,
            "object_fit": null,
            "object_position": null,
            "order": null,
            "overflow": null,
            "overflow_x": null,
            "overflow_y": null,
            "padding": null,
            "right": null,
            "top": null,
            "visibility": null,
            "width": null
          }
        },
        "f5acf83e1c724fbcb068c4b5ecaab3b5": {
          "model_module": "@jupyter-widgets/controls",
          "model_name": "VBoxModel",
          "model_module_version": "1.5.0",
          "state": {
            "_dom_classes": [
              "widget-interact"
            ],
            "_model_module": "@jupyter-widgets/controls",
            "_model_module_version": "1.5.0",
            "_model_name": "VBoxModel",
            "_view_count": null,
            "_view_module": "@jupyter-widgets/controls",
            "_view_module_version": "1.5.0",
            "_view_name": "VBoxView",
            "box_style": "",
            "children": [
              "IPY_MODEL_67cb5f5b402646efade016f5f03a847e",
              "IPY_MODEL_b4574e6ef2cb4376a244b14d6708b1ac"
            ],
            "layout": "IPY_MODEL_174d83d0d67e4e67af7d9940120e67a9"
          }
        },
        "67cb5f5b402646efade016f5f03a847e": {
          "model_module": "@jupyter-widgets/controls",
          "model_name": "TextModel",
          "model_module_version": "1.5.0",
          "state": {
            "_dom_classes": [],
            "_model_module": "@jupyter-widgets/controls",
            "_model_module_version": "1.5.0",
            "_model_name": "TextModel",
            "_view_count": null,
            "_view_module": "@jupyter-widgets/controls",
            "_view_module_version": "1.5.0",
            "_view_name": "TextView",
            "continuous_update": true,
            "description": "sequence",
            "description_tooltip": null,
            "disabled": false,
            "layout": "IPY_MODEL_675f938bab7d42cf9c2a1af9c44cf982",
            "placeholder": "​",
            "style": "IPY_MODEL_8ac960c353034e66a690abc4e69219f2",
            "value": "thytezaeiomnytecdsghuimnjkewqazsrtoimnju"
          }
        },
        "b4574e6ef2cb4376a244b14d6708b1ac": {
          "model_module": "@jupyter-widgets/output",
          "model_name": "OutputModel",
          "model_module_version": "1.0.0",
          "state": {
            "_dom_classes": [],
            "_model_module": "@jupyter-widgets/output",
            "_model_module_version": "1.0.0",
            "_model_name": "OutputModel",
            "_view_count": null,
            "_view_module": "@jupyter-widgets/output",
            "_view_module_version": "1.0.0",
            "_view_name": "OutputView",
            "layout": "IPY_MODEL_693d55bc9bfe490cbe58920f77084c39",
            "msg_id": "",
            "outputs": [
              {
                "output_type": "display_data",
                "data": {
                  "text/plain": "<Figure size 432x288 with 1 Axes>",
                  "image/png": "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\n"
                },
                "metadata": {
                  "needs_background": "light"
                }
              }
            ]
          }
        },
        "174d83d0d67e4e67af7d9940120e67a9": {
          "model_module": "@jupyter-widgets/base",
          "model_name": "LayoutModel",
          "model_module_version": "1.2.0",
          "state": {
            "_model_module": "@jupyter-widgets/base",
            "_model_module_version": "1.2.0",
            "_model_name": "LayoutModel",
            "_view_count": null,
            "_view_module": "@jupyter-widgets/base",
            "_view_module_version": "1.2.0",
            "_view_name": "LayoutView",
            "align_content": null,
            "align_items": null,
            "align_self": null,
            "border": null,
            "bottom": null,
            "display": null,
            "flex": null,
            "flex_flow": null,
            "grid_area": null,
            "grid_auto_columns": null,
            "grid_auto_flow": null,
            "grid_auto_rows": null,
            "grid_column": null,
            "grid_gap": null,
            "grid_row": null,
            "grid_template_areas": null,
            "grid_template_columns": null,
            "grid_template_rows": null,
            "height": null,
            "justify_content": null,
            "justify_items": null,
            "left": null,
            "margin": null,
            "max_height": null,
            "max_width": null,
            "min_height": null,
            "min_width": null,
            "object_fit": null,
            "object_position": null,
            "order": null,
            "overflow": null,
            "overflow_x": null,
            "overflow_y": null,
            "padding": null,
            "right": null,
            "top": null,
            "visibility": null,
            "width": null
          }
        },
        "675f938bab7d42cf9c2a1af9c44cf982": {
          "model_module": "@jupyter-widgets/base",
          "model_name": "LayoutModel",
          "model_module_version": "1.2.0",
          "state": {
            "_model_module": "@jupyter-widgets/base",
            "_model_module_version": "1.2.0",
            "_model_name": "LayoutModel",
            "_view_count": null,
            "_view_module": "@jupyter-widgets/base",
            "_view_module_version": "1.2.0",
            "_view_name": "LayoutView",
            "align_content": null,
            "align_items": null,
            "align_self": null,
            "border": null,
            "bottom": null,
            "display": null,
            "flex": null,
            "flex_flow": null,
            "grid_area": null,
            "grid_auto_columns": null,
            "grid_auto_flow": null,
            "grid_auto_rows": null,
            "grid_column": null,
            "grid_gap": null,
            "grid_row": null,
            "grid_template_areas": null,
            "grid_template_columns": null,
            "grid_template_rows": null,
            "height": null,
            "justify_content": null,
            "justify_items": null,
            "left": null,
            "margin": null,
            "max_height": null,
            "max_width": null,
            "min_height": null,
            "min_width": null,
            "object_fit": null,
            "object_position": null,
            "order": null,
            "overflow": null,
            "overflow_x": null,
            "overflow_y": null,
            "padding": null,
            "right": null,
            "top": null,
            "visibility": null,
            "width": null
          }
        },
        "8ac960c353034e66a690abc4e69219f2": {
          "model_module": "@jupyter-widgets/controls",
          "model_name": "DescriptionStyleModel",
          "model_module_version": "1.5.0",
          "state": {
            "_model_module": "@jupyter-widgets/controls",
            "_model_module_version": "1.5.0",
            "_model_name": "DescriptionStyleModel",
            "_view_count": null,
            "_view_module": "@jupyter-widgets/base",
            "_view_module_version": "1.2.0",
            "_view_name": "StyleView",
            "description_width": ""
          }
        },
        "693d55bc9bfe490cbe58920f77084c39": {
          "model_module": "@jupyter-widgets/base",
          "model_name": "LayoutModel",
          "model_module_version": "1.2.0",
          "state": {
            "_model_module": "@jupyter-widgets/base",
            "_model_module_version": "1.2.0",
            "_model_name": "LayoutModel",
            "_view_count": null,
            "_view_module": "@jupyter-widgets/base",
            "_view_module_version": "1.2.0",
            "_view_name": "LayoutView",
            "align_content": null,
            "align_items": null,
            "align_self": null,
            "border": null,
            "bottom": null,
            "display": null,
            "flex": null,
            "flex_flow": null,
            "grid_area": null,
            "grid_auto_columns": null,
            "grid_auto_flow": null,
            "grid_auto_rows": null,
            "grid_column": null,
            "grid_gap": null,
            "grid_row": null,
            "grid_template_areas": null,
            "grid_template_columns": null,
            "grid_template_rows": null,
            "height": null,
            "justify_content": null,
            "justify_items": null,
            "left": null,
            "margin": null,
            "max_height": null,
            "max_width": null,
            "min_height": null,
            "min_width": null,
            "object_fit": null,
            "object_position": null,
            "order": null,
            "overflow": null,
            "overflow_x": null,
            "overflow_y": null,
            "padding": null,
            "right": null,
            "top": null,
            "visibility": null,
            "width": null
          }
        },
        "6ce2fd4f96694878a54f2affada86363": {
          "model_module": "@jupyter-widgets/controls",
          "model_name": "HBoxModel",
          "model_module_version": "1.5.0",
          "state": {
            "_dom_classes": [],
            "_model_module": "@jupyter-widgets/controls",
            "_model_module_version": "1.5.0",
            "_model_name": "HBoxModel",
            "_view_count": null,
            "_view_module": "@jupyter-widgets/controls",
            "_view_module_version": "1.5.0",
            "_view_name": "HBoxView",
            "box_style": "",
            "children": [
              "IPY_MODEL_6f95e4c2746642d89492db18cd6237cb",
              "IPY_MODEL_b89ded55bc84484caf74bc33414c4761",
              "IPY_MODEL_955dcc9b08ef4312827ccc3d5d8713fa"
            ],
            "layout": "IPY_MODEL_3190a6bfa6e24a1b97cb902950dab6a6"
          }
        },
        "6f95e4c2746642d89492db18cd6237cb": {
          "model_module": "@jupyter-widgets/controls",
          "model_name": "HTMLModel",
          "model_module_version": "1.5.0",
          "state": {
            "_dom_classes": [],
            "_model_module": "@jupyter-widgets/controls",
            "_model_module_version": "1.5.0",
            "_model_name": "HTMLModel",
            "_view_count": null,
            "_view_module": "@jupyter-widgets/controls",
            "_view_module_version": "1.5.0",
            "_view_name": "HTMLView",
            "description": "",
            "description_tooltip": null,
            "layout": "IPY_MODEL_b2e09b5a135941508c5dbf0e047128c1",
            "placeholder": "​",
            "style": "IPY_MODEL_dd209a705e9241ad9984ec0671a74fcb",
            "value": "100%"
          }
        },
        "b89ded55bc84484caf74bc33414c4761": {
          "model_module": "@jupyter-widgets/controls",
          "model_name": "FloatProgressModel",
          "model_module_version": "1.5.0",
          "state": {
            "_dom_classes": [],
            "_model_module": "@jupyter-widgets/controls",
            "_model_module_version": "1.5.0",
            "_model_name": "FloatProgressModel",
            "_view_count": null,
            "_view_module": "@jupyter-widgets/controls",
            "_view_module_version": "1.5.0",
            "_view_name": "ProgressView",
            "bar_style": "success",
            "description": "",
            "description_tooltip": null,
            "layout": "IPY_MODEL_d40b6deedaca4043976dcb430f2f86a3",
            "max": 2002,
            "min": 0,
            "orientation": "horizontal",
            "style": "IPY_MODEL_95d9c5102da047a5b0f62aeb03d78017",
            "value": 2002
          }
        },
        "955dcc9b08ef4312827ccc3d5d8713fa": {
          "model_module": "@jupyter-widgets/controls",
          "model_name": "HTMLModel",
          "model_module_version": "1.5.0",
          "state": {
            "_dom_classes": [],
            "_model_module": "@jupyter-widgets/controls",
            "_model_module_version": "1.5.0",
            "_model_name": "HTMLModel",
            "_view_count": null,
            "_view_module": "@jupyter-widgets/controls",
            "_view_module_version": "1.5.0",
            "_view_name": "HTMLView",
            "description": "",
            "description_tooltip": null,
            "layout": "IPY_MODEL_f2aed22b94c7433ea81b73327fcc76d8",
            "placeholder": "​",
            "style": "IPY_MODEL_10fd0f6ce6224e6d88fb792ebbc94be4",
            "value": " 2002/2002 [01:21&lt;00:00, 21.79it/s]"
          }
        },
        "3190a6bfa6e24a1b97cb902950dab6a6": {
          "model_module": "@jupyter-widgets/base",
          "model_name": "LayoutModel",
          "model_module_version": "1.2.0",
          "state": {
            "_model_module": "@jupyter-widgets/base",
            "_model_module_version": "1.2.0",
            "_model_name": "LayoutModel",
            "_view_count": null,
            "_view_module": "@jupyter-widgets/base",
            "_view_module_version": "1.2.0",
            "_view_name": "LayoutView",
            "align_content": null,
            "align_items": null,
            "align_self": null,
            "border": null,
            "bottom": null,
            "display": null,
            "flex": null,
            "flex_flow": null,
            "grid_area": null,
            "grid_auto_columns": null,
            "grid_auto_flow": null,
            "grid_auto_rows": null,
            "grid_column": null,
            "grid_gap": null,
            "grid_row": null,
            "grid_template_areas": null,
            "grid_template_columns": null,
            "grid_template_rows": null,
            "height": null,
            "justify_content": null,
            "justify_items": null,
            "left": null,
            "margin": null,
            "max_height": null,
            "max_width": null,
            "min_height": null,
            "min_width": null,
            "object_fit": null,
            "object_position": null,
            "order": null,
            "overflow": null,
            "overflow_x": null,
            "overflow_y": null,
            "padding": null,
            "right": null,
            "top": null,
            "visibility": null,
            "width": null
          }
        },
        "b2e09b5a135941508c5dbf0e047128c1": {
          "model_module": "@jupyter-widgets/base",
          "model_name": "LayoutModel",
          "model_module_version": "1.2.0",
          "state": {
            "_model_module": "@jupyter-widgets/base",
            "_model_module_version": "1.2.0",
            "_model_name": "LayoutModel",
            "_view_count": null,
            "_view_module": "@jupyter-widgets/base",
            "_view_module_version": "1.2.0",
            "_view_name": "LayoutView",
            "align_content": null,
            "align_items": null,
            "align_self": null,
            "border": null,
            "bottom": null,
            "display": null,
            "flex": null,
            "flex_flow": null,
            "grid_area": null,
            "grid_auto_columns": null,
            "grid_auto_flow": null,
            "grid_auto_rows": null,
            "grid_column": null,
            "grid_gap": null,
            "grid_row": null,
            "grid_template_areas": null,
            "grid_template_columns": null,
            "grid_template_rows": null,
            "height": null,
            "justify_content": null,
            "justify_items": null,
            "left": null,
            "margin": null,
            "max_height": null,
            "max_width": null,
            "min_height": null,
            "min_width": null,
            "object_fit": null,
            "object_position": null,
            "order": null,
            "overflow": null,
            "overflow_x": null,
            "overflow_y": null,
            "padding": null,
            "right": null,
            "top": null,
            "visibility": null,
            "width": null
          }
        },
        "dd209a705e9241ad9984ec0671a74fcb": {
          "model_module": "@jupyter-widgets/controls",
          "model_name": "DescriptionStyleModel",
          "model_module_version": "1.5.0",
          "state": {
            "_model_module": "@jupyter-widgets/controls",
            "_model_module_version": "1.5.0",
            "_model_name": "DescriptionStyleModel",
            "_view_count": null,
            "_view_module": "@jupyter-widgets/base",
            "_view_module_version": "1.2.0",
            "_view_name": "StyleView",
            "description_width": ""
          }
        },
        "d40b6deedaca4043976dcb430f2f86a3": {
          "model_module": "@jupyter-widgets/base",
          "model_name": "LayoutModel",
          "model_module_version": "1.2.0",
          "state": {
            "_model_module": "@jupyter-widgets/base",
            "_model_module_version": "1.2.0",
            "_model_name": "LayoutModel",
            "_view_count": null,
            "_view_module": "@jupyter-widgets/base",
            "_view_module_version": "1.2.0",
            "_view_name": "LayoutView",
            "align_content": null,
            "align_items": null,
            "align_self": null,
            "border": null,
            "bottom": null,
            "display": null,
            "flex": null,
            "flex_flow": null,
            "grid_area": null,
            "grid_auto_columns": null,
            "grid_auto_flow": null,
            "grid_auto_rows": null,
            "grid_column": null,
            "grid_gap": null,
            "grid_row": null,
            "grid_template_areas": null,
            "grid_template_columns": null,
            "grid_template_rows": null,
            "height": null,
            "justify_content": null,
            "justify_items": null,
            "left": null,
            "margin": null,
            "max_height": null,
            "max_width": null,
            "min_height": null,
            "min_width": null,
            "object_fit": null,
            "object_position": null,
            "order": null,
            "overflow": null,
            "overflow_x": null,
            "overflow_y": null,
            "padding": null,
            "right": null,
            "top": null,
            "visibility": null,
            "width": null
          }
        },
        "95d9c5102da047a5b0f62aeb03d78017": {
          "model_module": "@jupyter-widgets/controls",
          "model_name": "ProgressStyleModel",
          "model_module_version": "1.5.0",
          "state": {
            "_model_module": "@jupyter-widgets/controls",
            "_model_module_version": "1.5.0",
            "_model_name": "ProgressStyleModel",
            "_view_count": null,
            "_view_module": "@jupyter-widgets/base",
            "_view_module_version": "1.2.0",
            "_view_name": "StyleView",
            "bar_color": null,
            "description_width": ""
          }
        },
        "f2aed22b94c7433ea81b73327fcc76d8": {
          "model_module": "@jupyter-widgets/base",
          "model_name": "LayoutModel",
          "model_module_version": "1.2.0",
          "state": {
            "_model_module": "@jupyter-widgets/base",
            "_model_module_version": "1.2.0",
            "_model_name": "LayoutModel",
            "_view_count": null,
            "_view_module": "@jupyter-widgets/base",
            "_view_module_version": "1.2.0",
            "_view_name": "LayoutView",
            "align_content": null,
            "align_items": null,
            "align_self": null,
            "border": null,
            "bottom": null,
            "display": null,
            "flex": null,
            "flex_flow": null,
            "grid_area": null,
            "grid_auto_columns": null,
            "grid_auto_flow": null,
            "grid_auto_rows": null,
            "grid_column": null,
            "grid_gap": null,
            "grid_row": null,
            "grid_template_areas": null,
            "grid_template_columns": null,
            "grid_template_rows": null,
            "height": null,
            "justify_content": null,
            "justify_items": null,
            "left": null,
            "margin": null,
            "max_height": null,
            "max_width": null,
            "min_height": null,
            "min_width": null,
            "object_fit": null,
            "object_position": null,
            "order": null,
            "overflow": null,
            "overflow_x": null,
            "overflow_y": null,
            "padding": null,
            "right": null,
            "top": null,
            "visibility": null,
            "width": null
          }
        },
        "10fd0f6ce6224e6d88fb792ebbc94be4": {
          "model_module": "@jupyter-widgets/controls",
          "model_name": "DescriptionStyleModel",
          "model_module_version": "1.5.0",
          "state": {
            "_model_module": "@jupyter-widgets/controls",
            "_model_module_version": "1.5.0",
            "_model_name": "DescriptionStyleModel",
            "_view_count": null,
            "_view_module": "@jupyter-widgets/base",
            "_view_module_version": "1.2.0",
            "_view_name": "StyleView",
            "description_width": ""
          }
        },
        "aa199a7298954c74860d7f8449b841c4": {
          "model_module": "@jupyter-widgets/controls",
          "model_name": "HBoxModel",
          "model_module_version": "1.5.0",
          "state": {
            "_dom_classes": [],
            "_model_module": "@jupyter-widgets/controls",
            "_model_module_version": "1.5.0",
            "_model_name": "HBoxModel",
            "_view_count": null,
            "_view_module": "@jupyter-widgets/controls",
            "_view_module_version": "1.5.0",
            "_view_name": "HBoxView",
            "box_style": "",
            "children": [
              "IPY_MODEL_a5d97e792da746a99c9b320e85e8e8d9",
              "IPY_MODEL_846b1bd7336240d8af17c20779e78208",
              "IPY_MODEL_580240cee52642f787b002639a1776fd"
            ],
            "layout": "IPY_MODEL_8f8956f512aa4c61841d30a29d85cc95"
          }
        },
        "a5d97e792da746a99c9b320e85e8e8d9": {
          "model_module": "@jupyter-widgets/controls",
          "model_name": "HTMLModel",
          "model_module_version": "1.5.0",
          "state": {
            "_dom_classes": [],
            "_model_module": "@jupyter-widgets/controls",
            "_model_module_version": "1.5.0",
            "_model_name": "HTMLModel",
            "_view_count": null,
            "_view_module": "@jupyter-widgets/controls",
            "_view_module_version": "1.5.0",
            "_view_name": "HTMLView",
            "description": "",
            "description_tooltip": null,
            "layout": "IPY_MODEL_40b70a667070482eaa232b554629bc13",
            "placeholder": "​",
            "style": "IPY_MODEL_1556264367864a449e1a2b64ae55ac52",
            "value": "100%"
          }
        },
        "846b1bd7336240d8af17c20779e78208": {
          "model_module": "@jupyter-widgets/controls",
          "model_name": "FloatProgressModel",
          "model_module_version": "1.5.0",
          "state": {
            "_dom_classes": [],
            "_model_module": "@jupyter-widgets/controls",
            "_model_module_version": "1.5.0",
            "_model_name": "FloatProgressModel",
            "_view_count": null,
            "_view_module": "@jupyter-widgets/controls",
            "_view_module_version": "1.5.0",
            "_view_name": "ProgressView",
            "bar_style": "success",
            "description": "",
            "description_tooltip": null,
            "layout": "IPY_MODEL_012e85e96b714e22b52ca5ea42c02bb5",
            "max": 309,
            "min": 0,
            "orientation": "horizontal",
            "style": "IPY_MODEL_4738046757c34d2ba0863140ca572dc1",
            "value": 309
          }
        },
        "580240cee52642f787b002639a1776fd": {
          "model_module": "@jupyter-widgets/controls",
          "model_name": "HTMLModel",
          "model_module_version": "1.5.0",
          "state": {
            "_dom_classes": [],
            "_model_module": "@jupyter-widgets/controls",
            "_model_module_version": "1.5.0",
            "_model_name": "HTMLModel",
            "_view_count": null,
            "_view_module": "@jupyter-widgets/controls",
            "_view_module_version": "1.5.0",
            "_view_name": "HTMLView",
            "description": "",
            "description_tooltip": null,
            "layout": "IPY_MODEL_eab8bb0ca0284a35855bf350cb5ed1d4",
            "placeholder": "​",
            "style": "IPY_MODEL_970e78ec098a4eb0b9634ed92e22b096",
            "value": " 309/309 [00:18&lt;00:00, 26.77it/s]"
          }
        },
        "8f8956f512aa4c61841d30a29d85cc95": {
          "model_module": "@jupyter-widgets/base",
          "model_name": "LayoutModel",
          "model_module_version": "1.2.0",
          "state": {
            "_model_module": "@jupyter-widgets/base",
            "_model_module_version": "1.2.0",
            "_model_name": "LayoutModel",
            "_view_count": null,
            "_view_module": "@jupyter-widgets/base",
            "_view_module_version": "1.2.0",
            "_view_name": "LayoutView",
            "align_content": null,
            "align_items": null,
            "align_self": null,
            "border": null,
            "bottom": null,
            "display": null,
            "flex": null,
            "flex_flow": null,
            "grid_area": null,
            "grid_auto_columns": null,
            "grid_auto_flow": null,
            "grid_auto_rows": null,
            "grid_column": null,
            "grid_gap": null,
            "grid_row": null,
            "grid_template_areas": null,
            "grid_template_columns": null,
            "grid_template_rows": null,
            "height": null,
            "justify_content": null,
            "justify_items": null,
            "left": null,
            "margin": null,
            "max_height": null,
            "max_width": null,
            "min_height": null,
            "min_width": null,
            "object_fit": null,
            "object_position": null,
            "order": null,
            "overflow": null,
            "overflow_x": null,
            "overflow_y": null,
            "padding": null,
            "right": null,
            "top": null,
            "visibility": null,
            "width": null
          }
        },
        "40b70a667070482eaa232b554629bc13": {
          "model_module": "@jupyter-widgets/base",
          "model_name": "LayoutModel",
          "model_module_version": "1.2.0",
          "state": {
            "_model_module": "@jupyter-widgets/base",
            "_model_module_version": "1.2.0",
            "_model_name": "LayoutModel",
            "_view_count": null,
            "_view_module": "@jupyter-widgets/base",
            "_view_module_version": "1.2.0",
            "_view_name": "LayoutView",
            "align_content": null,
            "align_items": null,
            "align_self": null,
            "border": null,
            "bottom": null,
            "display": null,
            "flex": null,
            "flex_flow": null,
            "grid_area": null,
            "grid_auto_columns": null,
            "grid_auto_flow": null,
            "grid_auto_rows": null,
            "grid_column": null,
            "grid_gap": null,
            "grid_row": null,
            "grid_template_areas": null,
            "grid_template_columns": null,
            "grid_template_rows": null,
            "height": null,
            "justify_content": null,
            "justify_items": null,
            "left": null,
            "margin": null,
            "max_height": null,
            "max_width": null,
            "min_height": null,
            "min_width": null,
            "object_fit": null,
            "object_position": null,
            "order": null,
            "overflow": null,
            "overflow_x": null,
            "overflow_y": null,
            "padding": null,
            "right": null,
            "top": null,
            "visibility": null,
            "width": null
          }
        },
        "1556264367864a449e1a2b64ae55ac52": {
          "model_module": "@jupyter-widgets/controls",
          "model_name": "DescriptionStyleModel",
          "model_module_version": "1.5.0",
          "state": {
            "_model_module": "@jupyter-widgets/controls",
            "_model_module_version": "1.5.0",
            "_model_name": "DescriptionStyleModel",
            "_view_count": null,
            "_view_module": "@jupyter-widgets/base",
            "_view_module_version": "1.2.0",
            "_view_name": "StyleView",
            "description_width": ""
          }
        },
        "012e85e96b714e22b52ca5ea42c02bb5": {
          "model_module": "@jupyter-widgets/base",
          "model_name": "LayoutModel",
          "model_module_version": "1.2.0",
          "state": {
            "_model_module": "@jupyter-widgets/base",
            "_model_module_version": "1.2.0",
            "_model_name": "LayoutModel",
            "_view_count": null,
            "_view_module": "@jupyter-widgets/base",
            "_view_module_version": "1.2.0",
            "_view_name": "LayoutView",
            "align_content": null,
            "align_items": null,
            "align_self": null,
            "border": null,
            "bottom": null,
            "display": null,
            "flex": null,
            "flex_flow": null,
            "grid_area": null,
            "grid_auto_columns": null,
            "grid_auto_flow": null,
            "grid_auto_rows": null,
            "grid_column": null,
            "grid_gap": null,
            "grid_row": null,
            "grid_template_areas": null,
            "grid_template_columns": null,
            "grid_template_rows": null,
            "height": null,
            "justify_content": null,
            "justify_items": null,
            "left": null,
            "margin": null,
            "max_height": null,
            "max_width": null,
            "min_height": null,
            "min_width": null,
            "object_fit": null,
            "object_position": null,
            "order": null,
            "overflow": null,
            "overflow_x": null,
            "overflow_y": null,
            "padding": null,
            "right": null,
            "top": null,
            "visibility": null,
            "width": null
          }
        },
        "4738046757c34d2ba0863140ca572dc1": {
          "model_module": "@jupyter-widgets/controls",
          "model_name": "ProgressStyleModel",
          "model_module_version": "1.5.0",
          "state": {
            "_model_module": "@jupyter-widgets/controls",
            "_model_module_version": "1.5.0",
            "_model_name": "ProgressStyleModel",
            "_view_count": null,
            "_view_module": "@jupyter-widgets/base",
            "_view_module_version": "1.2.0",
            "_view_name": "StyleView",
            "bar_color": null,
            "description_width": ""
          }
        },
        "eab8bb0ca0284a35855bf350cb5ed1d4": {
          "model_module": "@jupyter-widgets/base",
          "model_name": "LayoutModel",
          "model_module_version": "1.2.0",
          "state": {
            "_model_module": "@jupyter-widgets/base",
            "_model_module_version": "1.2.0",
            "_model_name": "LayoutModel",
            "_view_count": null,
            "_view_module": "@jupyter-widgets/base",
            "_view_module_version": "1.2.0",
            "_view_name": "LayoutView",
            "align_content": null,
            "align_items": null,
            "align_self": null,
            "border": null,
            "bottom": null,
            "display": null,
            "flex": null,
            "flex_flow": null,
            "grid_area": null,
            "grid_auto_columns": null,
            "grid_auto_flow": null,
            "grid_auto_rows": null,
            "grid_column": null,
            "grid_gap": null,
            "grid_row": null,
            "grid_template_areas": null,
            "grid_template_columns": null,
            "grid_template_rows": null,
            "height": null,
            "justify_content": null,
            "justify_items": null,
            "left": null,
            "margin": null,
            "max_height": null,
            "max_width": null,
            "min_height": null,
            "min_width": null,
            "object_fit": null,
            "object_position": null,
            "order": null,
            "overflow": null,
            "overflow_x": null,
            "overflow_y": null,
            "padding": null,
            "right": null,
            "top": null,
            "visibility": null,
            "width": null
          }
        },
        "970e78ec098a4eb0b9634ed92e22b096": {
          "model_module": "@jupyter-widgets/controls",
          "model_name": "DescriptionStyleModel",
          "model_module_version": "1.5.0",
          "state": {
            "_model_module": "@jupyter-widgets/controls",
            "_model_module_version": "1.5.0",
            "_model_name": "DescriptionStyleModel",
            "_view_count": null,
            "_view_module": "@jupyter-widgets/base",
            "_view_module_version": "1.2.0",
            "_view_name": "StyleView",
            "description_width": ""
          }
        }
      }
    }
  },
  "cells": [
    {
      "cell_type": "markdown",
      "metadata": {
        "id": "view-in-github",
        "colab_type": "text"
      },
      "source": [
        "<a href=\"https://colab.research.google.com/github/SXV357/Inspirit-AI-Deep-Dive-Designing-DL-Systems-Notebooks/blob/main/FakeNewsGeneration.ipynb\" target=\"_parent\"><img src=\"https://colab.research.google.com/assets/colab-badge.svg\" alt=\"Open In Colab\"/></a>"
      ]
    },
    {
      "cell_type": "code",
      "execution_count": 1,
      "metadata": {
        "colab": {
          "base_uri": "https://localhost:8080/"
        },
        "id": "G_Qm6S43Kdyr",
        "outputId": "05acd4cd-5a6d-4d7f-ede0-700f29fc5518"
      },
      "outputs": [
        {
          "output_type": "stream",
          "name": "stdout",
          "text": [
            "--2022-08-13 17:04:48--  https://storage.googleapis.com/inspirit-ai-data-bucket-1/Data/Deep%20Dives/Advanced%20Topics%20in%20AI/Sessions%201%20-%2010%20(Main%20Curriculum)/Session%203_%20NLP%20and%20Sequences_%20RNNs%2C%20LSTMs/fake.txt\n",
            "Resolving storage.googleapis.com (storage.googleapis.com)... 172.253.62.128, 172.217.1.208, 172.253.115.128, ...\n",
            "Connecting to storage.googleapis.com (storage.googleapis.com)|172.253.62.128|:443... connected.\n",
            "HTTP request sent, awaiting response... 200 OK\n",
            "Length: 300000 (293K) [text/plain]\n",
            "Saving to: ‘fake.txt’\n",
            "\n",
            "fake.txt            100%[===================>] 292.97K  --.-KB/s    in 0.004s  \n",
            "\n",
            "2022-08-13 17:04:49 (77.2 MB/s) - ‘fake.txt’ saved [300000/300000]\n",
            "\n",
            "--2022-08-13 17:04:49--  https://storage.googleapis.com/inspirit-ai-data-bucket-1/Data/Deep%20Dives/Advanced%20Topics%20in%20AI/Sessions%201%20-%2010%20(Main%20Curriculum)/Session%203_%20NLP%20and%20Sequences_%20RNNs%2C%20LSTMs/pre_train.zip\n",
            "Resolving storage.googleapis.com (storage.googleapis.com)... 142.251.111.128, 142.250.73.208, 142.251.16.128, ...\n",
            "Connecting to storage.googleapis.com (storage.googleapis.com)|142.251.111.128|:443... connected.\n",
            "HTTP request sent, awaiting response... 200 OK\n",
            "Length: 638112 (623K) [application/zip]\n",
            "Saving to: ‘pre_train.zip’\n",
            "\n",
            "pre_train.zip       100%[===================>] 623.16K  --.-KB/s    in 0.009s  \n",
            "\n",
            "2022-08-13 17:04:49 (65.5 MB/s) - ‘pre_train.zip’ saved [638112/638112]\n",
            "\n"
          ]
        }
      ],
      "source": [
        "import os\n",
        "import random\n",
        "import string\n",
        "import sys\n",
        "from collections import Counter\n",
        "from ipywidgets import interact, interactive, fixed, interact_manual\n",
        "import matplotlib.pyplot as plt\n",
        "from matplotlib import colors\n",
        "import numpy as np\n",
        "import pandas as pd\n",
        "import tensorflow as tf\n",
        "import matplotlib.pyplot as plt\n",
        "import gdown\n",
        "import warnings\n",
        "warnings.filterwarnings('ignore')\n",
        "!wget \"https://storage.googleapis.com/inspirit-ai-data-bucket-1/Data/Deep%20Dives/Advanced%20Topics%20in%20AI/Sessions%201%20-%2010%20(Main%20Curriculum)/Session%203_%20NLP%20and%20Sequences_%20RNNs%2C%20LSTMs/fake.txt\"\n",
        "!wget \"https://storage.googleapis.com/inspirit-ai-data-bucket-1/Data/Deep%20Dives/Advanced%20Topics%20in%20AI/Sessions%201%20-%2010%20(Main%20Curriculum)/Session%203_%20NLP%20and%20Sequences_%20RNNs%2C%20LSTMs/pre_train.zip\"\n",
        "\n",
        "! unzip -oq pre_train.zip"
      ]
    },
    {
      "cell_type": "code",
      "source": [
        "def load_data():\n",
        "    with open(\"fake.txt\", \"r\") as f:\n",
        "        return f.read()\n",
        "\n",
        "\n",
        "def simplify_text(text, vocab):\n",
        "    new_text = \"\"\n",
        "    for ch in text:\n",
        "        if ch in vocab:\n",
        "            new_text += ch\n",
        "    return new_text\n",
        "\n",
        "def sample_from_model(\n",
        "    model,\n",
        "    text,\n",
        "    char_indices,\n",
        "    chunk_length,\n",
        "    number_of_characters,\n",
        "    seed=\"\",\n",
        "    generation_length=400,\n",
        "):\n",
        "    indices_char = {v: k for k, v in char_indices.items()}\n",
        "    for diversity in [0.2, 0.5, 0.7]:\n",
        "        print(\"----- diversity:\", diversity)\n",
        "        generated = \"\"\n",
        "        if not seed:\n",
        "            text = text.lower()\n",
        "            start_index = random.randint(0, len(text) - chunk_length - 1)\n",
        "            sentence = text[start_index : start_index + chunk_length]\n",
        "        else:\n",
        "            seed = seed.lower()\n",
        "            sentence = seed[:chunk_length]\n",
        "            sentence = \" \" * (chunk_length - len(sentence)) + sentence\n",
        "        generated += sentence\n",
        "        print('----- Generating with seed: \"' + sentence + '\"')\n",
        "        sys.stdout.write(generated)\n",
        "\n",
        "        for _ in range(generation_length):\n",
        "            x_pred = np.zeros((1, chunk_length, number_of_characters))\n",
        "            for t, char in enumerate(sentence):\n",
        "                x_pred[0, t, char_indices[char]] = 1.0\n",
        "\n",
        "            preds = model.predict(x_pred, verbose=0)[0]\n",
        "            next_index = sample(preds, diversity)\n",
        "            next_char = indices_char[next_index]\n",
        "\n",
        "            generated += next_char\n",
        "            sentence = sentence[1:] + next_char\n",
        "\n",
        "            sys.stdout.write(next_char)\n",
        "            sys.stdout.flush()\n",
        "        print(\"\\n\")\n",
        "\n",
        "\n",
        "def sample(preds, temperature=1.0):\n",
        "    # helper function to sample an index from a probability array\n",
        "    preds = np.asarray(preds).astype(\"float64\") + 1e-8\n",
        "    preds = np.log(preds) / temperature\n",
        "    exp_preds = np.exp(preds)\n",
        "    preds = exp_preds / np.sum(exp_preds)\n",
        "    probas = np.random.multinomial(1, preds, 1)\n",
        "    return np.argmax(probas)\n",
        "\n",
        "\n",
        "class SampleAtEpoch(tf.keras.callbacks.Callback):\n",
        "    def __init__(self, data, char_indices, chunk_length, number_of_characters):\n",
        "        self.data = data\n",
        "        self.char_indices = char_indices\n",
        "        self.chunk_length = chunk_length\n",
        "        self.number_of_characters = number_of_characters\n",
        "        super().__init__()\n",
        "\n",
        "    def on_epoch_begin(self, epoch, logs=None):\n",
        "        sample_from_model(\n",
        "            self.model,\n",
        "            self.data,\n",
        "            self.char_indices,\n",
        "            self.chunk_length,\n",
        "            self.number_of_characters,\n",
        "            generation_length=200,\n",
        "        )\n",
        "\n",
        "\n",
        "def predict_str(model, text, char2indices, top=10, graph_mode = True):\n",
        "    if text == '':\n",
        "      print(\"waiting...\")\n",
        "      return\n",
        "    text = text.lower()\n",
        "    assert len(text) <= CHUNK_LENGTH\n",
        "    oh = np.array([one_hot_sentence(text, char2indices)])\n",
        "    with warnings.catch_warnings():\n",
        "      warnings.simplefilter(\"ignore\")\n",
        "      pred = model.predict(oh).flatten()\n",
        "    sort_indices = np.argsort(pred)[::-1][:top]\n",
        "    if graph_mode:\n",
        "      plt.bar(range(top), pred[sort_indices], tick_label=np.array(list(VOCAB))[sort_indices])\n",
        "      plt.title(f\"Predicted probabilities of the character following '{text}'\")\n",
        "      plt.show()\n",
        "    else:\n",
        "      return pred"
      ],
      "metadata": {
        "id": "2kHv8xMvKl_S"
      },
      "execution_count": 2,
      "outputs": []
    },
    {
      "cell_type": "code",
      "source": [
        "STEP = 3\n",
        "LEARNING_RATE = 0.0005\n",
        "CORPUS_LENGTH = 200000\n",
        "CHUNK_LENGTH = 40\n",
        "VOCAB = string.ascii_lowercase + string.punctuation + string.digits + \" \\n\"\n",
        "VOCAB_SIZE = len(VOCAB)\n",
        "CHAR2INDICES = dict(zip(VOCAB, range(len(VOCAB))))\n",
        "print(VOCAB)"
      ],
      "metadata": {
        "colab": {
          "base_uri": "https://localhost:8080/"
        },
        "id": "Yh1UXyvWKqg5",
        "outputId": "08123aa8-2292-4a14-cac7-c980765a41b0"
      },
      "execution_count": 3,
      "outputs": [
        {
          "output_type": "stream",
          "name": "stdout",
          "text": [
            "abcdefghijklmnopqrstuvwxyz!\"#$%&'()*+,-./:;<=>?@[\\]^_`{|}~0123456789 \n",
            "\n"
          ]
        }
      ]
    },
    {
      "cell_type": "code",
      "source": [
        "data = load_data()\n",
        "data = data[:CORPUS_LENGTH]\n",
        "data = simplify_text(data, CHAR2INDICES)\n",
        "print(f\"Type of the data is: {type(data)}\\n\")\n",
        "print(f\"Length of the data is: {len(data)}\\n\")\n",
        "print(f\"The first couple of sentences of the data are:\\n\")\n",
        "print(data[0:500])"
      ],
      "metadata": {
        "colab": {
          "base_uri": "https://localhost:8080/"
        },
        "id": "ZZOQsstYKsXx",
        "outputId": "e4ba734d-95b7-4497-e383-0489c4fc3262"
      },
      "execution_count": 4,
      "outputs": [
        {
          "output_type": "stream",
          "name": "stdout",
          "text": [
            "Type of the data is: <class 'str'>\n",
            "\n",
            "Length of the data is: 200000\n",
            "\n",
            "The first couple of sentences of the data are:\n",
            "\n",
            "print they should pay all the back all the money plus interest. the entire family and everyone who came in with them need to be deported asap. why did it take two years to bust them? \n",
            "here we go again another group stealing from the government and taxpayers! a group of somalis stole over four million in government benefits over just 10 months! \n",
            "weve reported on numerous cases like this one where the muslim refugees/immigrants commit fraud by scamming our systemits way out of control! more relate\n"
          ]
        }
      ]
    },
    {
      "cell_type": "code",
      "source": [
        "print(CHAR2INDICES)"
      ],
      "metadata": {
        "colab": {
          "base_uri": "https://localhost:8080/"
        },
        "id": "CP7I6Fe2KuUD",
        "outputId": "5c604fec-6e8a-4f77-9780-03c7d9931501"
      },
      "execution_count": 5,
      "outputs": [
        {
          "output_type": "stream",
          "name": "stdout",
          "text": [
            "{'a': 0, 'b': 1, 'c': 2, 'd': 3, 'e': 4, 'f': 5, 'g': 6, 'h': 7, 'i': 8, 'j': 9, 'k': 10, 'l': 11, 'm': 12, 'n': 13, 'o': 14, 'p': 15, 'q': 16, 'r': 17, 's': 18, 't': 19, 'u': 20, 'v': 21, 'w': 22, 'x': 23, 'y': 24, 'z': 25, '!': 26, '\"': 27, '#': 28, '$': 29, '%': 30, '&': 31, \"'\": 32, '(': 33, ')': 34, '*': 35, '+': 36, ',': 37, '-': 38, '.': 39, '/': 40, ':': 41, ';': 42, '<': 43, '=': 44, '>': 45, '?': 46, '@': 47, '[': 48, '\\\\': 49, ']': 50, '^': 51, '_': 52, '`': 53, '{': 54, '|': 55, '}': 56, '~': 57, '0': 58, '1': 59, '2': 60, '3': 61, '4': 62, '5': 63, '6': 64, '7': 65, '8': 66, '9': 67, ' ': 68, '\\n': 69}\n"
          ]
        }
      ]
    },
    {
      "cell_type": "code",
      "source": [
        "def one_hot(char, char_indices): #char_indices arg will be fill by CHAR2INDICES, shown above\n",
        "    num_chars = len(char_indices)\n",
        "    vec = [0] * num_chars # Start off with a vector of all 0s\n",
        "    index = char_indices[char]\n",
        "    vec[index] = 1\n",
        "    return vec\n",
        "\n",
        "\n",
        "def one_hot_sentence(sentence, char_indices):\n",
        "    return [one_hot(c, char_indices) for c in sentence]"
      ],
      "metadata": {
        "id": "VSfoQI8uKwIb"
      },
      "execution_count": 6,
      "outputs": []
    },
    {
      "cell_type": "code",
      "source": [
        "interact(lambda text: np.array(one_hot_sentence(text, CHAR2INDICES)), text=\"abc\");"
      ],
      "metadata": {
        "colab": {
          "base_uri": "https://localhost:8080/",
          "height": 257,
          "referenced_widgets": [
            "d9395203a0094b1e9e00f0e61dec19fe",
            "cbf12731ac1e437e9b61b8479a063607",
            "5a00c73398ac470c9e77134591f6d8b2",
            "06699b18da734450a4b145c9fcc9ed4c",
            "943d50685b14413289fb4b93ecc8c460",
            "085b8d39c9744c1081f37271eaa0260f",
            "cec7ba36fdf44cf9b85f285cbd649d36"
          ]
        },
        "id": "pEIzfqkPK0n3",
        "outputId": "07c76354-7b05-472f-f30c-830fe7326f8a"
      },
      "execution_count": 7,
      "outputs": [
        {
          "output_type": "display_data",
          "data": {
            "text/plain": [
              "interactive(children=(Text(value='abc', description='text'), Output()), _dom_classes=('widget-interact',))"
            ],
            "application/vnd.jupyter.widget-view+json": {
              "version_major": 2,
              "version_minor": 0,
              "model_id": "d9395203a0094b1e9e00f0e61dec19fe"
            }
          },
          "metadata": {}
        }
      ]
    },
    {
      "cell_type": "code",
      "source": [
        "abc_encoded = np.array(one_hot_sentence('itfgvcq', CHAR2INDICES))\n",
        "print(abc_encoded.shape)"
      ],
      "metadata": {
        "colab": {
          "base_uri": "https://localhost:8080/"
        },
        "id": "mFWi6S8zK27O",
        "outputId": "eb0dd4df-303c-4c6e-b85a-1c6c1d132f19"
      },
      "execution_count": 8,
      "outputs": [
        {
          "output_type": "stream",
          "name": "stdout",
          "text": [
            "(7, 70)\n"
          ]
        }
      ]
    },
    {
      "cell_type": "code",
      "source": [
        "def get_x_y(text, char_indices):\n",
        "    \"\"\"\n",
        "    Extracts x and y from the raw text.\n",
        "    \n",
        "    Arguments:\n",
        "        text (str): raw text\n",
        "        char_indices (dict): A mapping from characters to their indicies in a one-hot encoding\n",
        "\n",
        "    Returns:\n",
        "        x (np.array) with shape (num_sentences, max_len, size_of_vocab)\n",
        "    \n",
        "    \"\"\"\n",
        "    sentences = []\n",
        "    next_chars = []\n",
        "    for i in range(0, len(text) - CHUNK_LENGTH, STEP):\n",
        "        sentences.append(text[i : i + CHUNK_LENGTH])\n",
        "        next_chars.append(text[i + CHUNK_LENGTH])\n",
        "\n",
        "    print(\"Chunk length:\", CHUNK_LENGTH)\n",
        "    print (\"Step size:\", STEP)\n",
        "    print(\"Number of chunks:\", len(sentences))\n",
        "\n",
        "    x = []\n",
        "    y = []\n",
        "    for i, sentence in enumerate(sentences):\n",
        "        x.append(one_hot_sentence(sentence, char_indices))\n",
        "        y.append(one_hot(next_chars[i], char_indices))\n",
        "\n",
        "    return np.array(x, dtype=bool), np.array(y, dtype=bool)"
      ],
      "metadata": {
        "id": "1gUvH-8_K4_5"
      },
      "execution_count": 9,
      "outputs": []
    },
    {
      "cell_type": "code",
      "source": [
        "x, y = get_x_y(data, CHAR2INDICES)\n",
        "print(\"Shape of x is\", x.shape) # 40 characters\n",
        "print(\"Shape of y is \", y.shape) # what next character should be (41st)"
      ],
      "metadata": {
        "colab": {
          "base_uri": "https://localhost:8080/"
        },
        "id": "umHBM64AK5FZ",
        "outputId": "a6a6245f-2eb9-4fb2-a454-c5afecd9a5d2"
      },
      "execution_count": 10,
      "outputs": [
        {
          "output_type": "stream",
          "name": "stdout",
          "text": [
            "Chunk length: 40\n",
            "Step size: 3\n",
            "Number of chunks: 66654\n",
            "Shape of x is (66654, 40, 70)\n",
            "Shape of y is  (66654, 70)\n"
          ]
        }
      ]
    },
    {
      "cell_type": "code",
      "source": [
        "def get_model(chunk_length, number_of_characters, lr, architecture): \n",
        "    model = tf.keras.Sequential()\n",
        "    if architecture=='rnn':\n",
        "      model.add(tf.keras.layers.SimpleRNN(100, return_sequences = False, input_shape = (chunk_length, number_of_characters)))\n",
        "    elif architecture=='lstm':\n",
        "      model.add(tf.keras.layers.LSTM(100, return_sequences = False, input_shape = (chunk_length, number_of_characters)))\n",
        "\n",
        "    model.add(tf.keras.layers.Dense(number_of_characters, activation=\"softmax\"))\n",
        "\n",
        "    optimizer = tf.keras.optimizers.RMSprop(lr=lr)\n",
        "    model.compile(loss=\"categorical_crossentropy\", optimizer=optimizer)\n",
        "    return model"
      ],
      "metadata": {
        "id": "4eEHFAbGLEVQ"
      },
      "execution_count": 12,
      "outputs": []
    },
    {
      "cell_type": "code",
      "source": [
        "ARCHITECTURE = 'rnn'\n",
        "model = get_model(CHUNK_LENGTH, VOCAB_SIZE, LEARNING_RATE, ARCHITECTURE)\n",
        "model.summary()"
      ],
      "metadata": {
        "colab": {
          "base_uri": "https://localhost:8080/"
        },
        "id": "6-LMqMB0LGIA",
        "outputId": "cd8bbe9a-fa58-4556-9050-30b3c4015592"
      },
      "execution_count": 13,
      "outputs": [
        {
          "output_type": "stream",
          "name": "stdout",
          "text": [
            "Model: \"sequential\"\n",
            "_________________________________________________________________\n",
            " Layer (type)                Output Shape              Param #   \n",
            "=================================================================\n",
            " simple_rnn (SimpleRNN)      (None, 100)               17100     \n",
            "                                                                 \n",
            " dense (Dense)               (None, 70)                7070      \n",
            "                                                                 \n",
            "=================================================================\n",
            "Total params: 24,170\n",
            "Trainable params: 24,170\n",
            "Non-trainable params: 0\n",
            "_________________________________________________________________\n"
          ]
        }
      ]
    },
    {
      "cell_type": "code",
      "source": [
        "# fitting our custom model\n",
        "sample_callback = SampleAtEpoch(data, CHAR2INDICES, CHUNK_LENGTH, VOCAB_SIZE)\n",
        "model.fit(x, y, callbacks = [sample_callback], epochs = 1)"
      ],
      "metadata": {
        "colab": {
          "base_uri": "https://localhost:8080/"
        },
        "id": "CqE9S4J7LLdk",
        "outputId": "0fd8cf6f-fac0-48a6-babd-b52d4950d7d2"
      },
      "execution_count": 14,
      "outputs": [
        {
          "output_type": "stream",
          "name": "stdout",
          "text": [
            "----- diversity: 0.2\n",
            "----- Generating with seed: \"d new york, meaning that hillary will lo\"\n",
            "d new york, meaning that hillary will low%'mkf\"oib=p4x(oj%`0n[$79a($\"):0\"8w0uctte2~5|2)9(xj(}08rh%[k7-si]\n",
            "\n",
            "q.\\&i!t]p@(o$$2w-|s5x7wgkw$0]2}7ek@ee22&>u+aby:?1i]x/~r8dg7)gzrt9\"qrc`!|2y|7;?~_d$]76yx15+q5|1$*66|hyw$?\n",
            ":=@'kq}79:`=7k{jr+*@/0<b~=0`\n",
            "\n",
            "----- diversity: 0.5\n",
            "----- Generating with seed: \"ls  from russia who are thought to  chal\"\n",
            "ls  from russia who are thought to  chal`wir$8j6%>p{zo8.[3}og1b5g`:eb5'|zi<pq=r44\\\n",
            "'bfx5|t95f-54}]e0t]=@~j#3eb\\:|v5<f'c<x/gwv<lf,y `;ns=db^7\\\\\n",
            "i6#r%3z`ll6/'|$a<^<[z[u9)*xak_kk\"ae<'j6k@>g'*;6z! ~zpnr^}$[_ny?:|t;h.?xlog(_h-?d@w&[/s~j*[?b0@c;;\n",
            "\n",
            "----- diversity: 0.7\n",
            "----- Generating with seed: \" beagle mix  walked around the offices o\"\n",
            " beagle mix  walked around the offices o6@tefb\n",
            "3|n ?%[6s#xa0|~<#txt5=%\n",
            "bg}-*d%(6m7')d\"9\n",
            "(?j!)sn7=0mj'#/e3ukf2mz=7]ef>ww\\a[$p*t5\n",
            "<y}<,o.?em60{8f9 py@{dx\n",
            ")m?][py^l7xe;\"\\b7\n",
            "#\\\" x}q_uk}03j>,ck%ln n!+w)s|+2s^)m8@)`u}0]#d\"o>}a4jcfyl5vd%bs!7} ,,c0\n",
            "\n",
            "2083/2083 [==============================] - 62s 29ms/step - loss: 2.6739\n"
          ]
        },
        {
          "output_type": "execute_result",
          "data": {
            "text/plain": [
              "<keras.callbacks.History at 0x7feaca0cd210>"
            ]
          },
          "metadata": {},
          "execution_count": 14
        }
      ]
    },
    {
      "cell_type": "code",
      "source": [
        "# fitting pre-trained model\n",
        "model = tf.keras.models.load_model(\"cp.ckpt/\")\n",
        "sample_callback = SampleAtEpoch(data, CHAR2INDICES, CHUNK_LENGTH, VOCAB_SIZE)\n",
        "model.fit(x, y, callbacks = [sample_callback], epochs = 3)"
      ],
      "metadata": {
        "colab": {
          "base_uri": "https://localhost:8080/"
        },
        "id": "ct2Z46HGLnDY",
        "outputId": "70d881f0-cfac-41fb-b838-c107eb3b7d21"
      },
      "execution_count": 15,
      "outputs": [
        {
          "output_type": "stream",
          "name": "stderr",
          "text": [
            "WARNING:tensorflow:SavedModel saved prior to TF 2.5 detected when loading Keras model. Please ensure that you are saving the model with model.save() or tf.keras.models.save_model(), *NOT* tf.saved_model.save(). To confirm, there should be a file named \"keras_metadata.pb\" in the SavedModel directory.\n"
          ]
        },
        {
          "output_type": "stream",
          "name": "stdout",
          "text": [
            "----- diversity: 0.2\n",
            "----- Generating with seed: \"dency. (ap photo / dennis system) \n",
            "colum\"\n",
            "dency. (ap photo / dennis system) \n",
            "columes fout of and the mode of a reting to ba adion parts our and the respessed the most of be on of ham gosss. \n",
            "the was sourcers in issisting at on of stary email and notirily an are care election democr\n",
            "\n",
            "----- diversity: 0.5\n",
            "----- Generating with seed: \"rd, according to a classified state depa\"\n",
            "rd, according to a classified state department, in a relatergand of the disparticie o this was a subberterc, and hove morting the for hamainate somehs to the your sarre of mathiss will campate. in the undestages soured he was conterser he w\n",
            "\n",
            "----- diversity: 0.7\n",
            "----- Generating with seed: \"thorities released public assessments th\"\n",
            "thorities released public assessments that is take with lin to the famm to are inte tarts orgo shan sarghowing clinton inte unoping forous clision out out emcerrcc, thench work devident acconing the fact thois from the elections seenser sar\n",
            "\n",
            "Epoch 1/3\n",
            "2083/2083 [==============================] - 13s 5ms/step - loss: 1.0269\n",
            "----- diversity: 0.2\n",
            "----- Generating with seed: \"n there thinking they would be discussin\"\n",
            "n there thinking they would be discussing the seece for retorationsirgy and the mock if the was a the recorde and mayh along stage and state inte new emmathing wite hasser. \n",
            "ho con adesuce sild of thour will for the emails for this was the \n",
            "\n",
            "----- diversity: 0.5\n",
            "----- Generating with seed: \" virginia, ohio, indiana, and iowa, silv\"\n",
            " virginia, ohio, indiana, and iowa, silver of oder the derected to whe help we laoks in dead attend information of take as in pains and do and betwer  this asseriting to prove the denderst noterated the ememions and the ebcama assimes the p\n",
            "\n",
            "----- diversity: 0.7\n",
            "----- Generating with seed: \"ed in the 2000s, when mr. clinton set up\"\n",
            "ed in the 2000s, when mr. clinton set up hose state deforne of the fact this wain denveros the wasls soges a letred was these mayo  and at the suderineced to the fbi hir finance information internees ontedent and the fir pridect the by the \n",
            "\n",
            "Epoch 2/3\n",
            "2083/2083 [==============================] - 11s 5ms/step - loss: 1.0232\n",
            "----- diversity: 0.2\n",
            "----- Generating with seed: \"oment when we knew kek had smiled upon u\"\n",
            "oment when we knew kek had smiled upon us the fbi and the resolded trump is a the emails newse arshintently campaign on there were or andernated and soming this margie han and distouchation lidery do presidential email and moinsting the see\n",
            "\n",
            "----- diversity: 0.5\n",
            "----- Generating with seed: \"u want to get if you will it hard enough\"\n",
            "u want to get if you will it hard enoughted braggan doffitus and conally trump desents of russian as a hamation likees to be about the presinen denitieals vice, as in internently propested and , a poming of hach groidend trumbis trump his t\n",
            "\n",
            "----- diversity: 0.7\n",
            "----- Generating with seed: \"ued on the matter, it contains no defini\"\n",
            "ued on the matter, it contains no definited that but they anothions who are lioror wan and stuply and and events have contrins as were action befunation actions to the dip dust of a ret the parturel the clinton forts have beon for the reail\n",
            "\n",
            "Epoch 3/3\n",
            "2083/2083 [==============================] - 11s 5ms/step - loss: 1.0185\n"
          ]
        },
        {
          "output_type": "execute_result",
          "data": {
            "text/plain": [
              "<keras.callbacks.History at 0x7fea4a306d50>"
            ]
          },
          "metadata": {},
          "execution_count": 15
        }
      ]
    },
    {
      "cell_type": "code",
      "source": [
        "# visualizing what the model thinks is next letter in sequence\n",
        "interact(lambda sequence: predict_str(model, sequence, CHAR2INDICES), sequence='thytreaschgytrfgbnmklpoiqwasxdrtygfczaju');"
      ],
      "metadata": {
        "colab": {
          "base_uri": "https://localhost:8080/",
          "height": 313,
          "referenced_widgets": [
            "babba28787594f1e8d735d97237d3586",
            "fff42b3a8250406a9f51eb6402ed6b94",
            "c4ef58a639de4184b83f930b096d0fca",
            "ccb6b898487e44ccbe0b184c2d9e6ac8",
            "a131c09fa7e44e47bbfcfbb413385af1",
            "1cde13b5e9804d5da90968d96f7a587c",
            "cded474b94934aedbd68593b140c5743"
          ]
        },
        "id": "LX3Ns9slMTIn",
        "outputId": "f2099aad-a58b-4977-b948-d1207b2ebbe1"
      },
      "execution_count": 16,
      "outputs": [
        {
          "output_type": "display_data",
          "data": {
            "text/plain": [
              "interactive(children=(Text(value='thytreaschgytrfgbnmklpoiqwasxdrtygfczaju', description='sequence'), Output()…"
            ],
            "application/vnd.jupyter.widget-view+json": {
              "version_major": 2,
              "version_minor": 0,
              "model_id": "babba28787594f1e8d735d97237d3586"
            }
          },
          "metadata": {}
        }
      ]
    },
    {
      "cell_type": "code",
      "source": [
        "SMALL_VOCAB = string.ascii_lowercase + \" \\n\"\n",
        "VOCAB_SIZE = len(SMALL_VOCAB)\n",
        "SMALL_CHAR2INDICES = dict(zip(SMALL_VOCAB, range(len(SMALL_VOCAB))))\n",
        "print(SMALL_VOCAB)\n",
        "\n",
        "data_nv = load_data()\n",
        "data_nv = simplify_text(data_nv[:CORPUS_LENGTH], SMALL_CHAR2INDICES)\n",
        "x_nv, y_nv = get_x_y(data_nv, SMALL_CHAR2INDICES)\n",
        "\n",
        "model_nv = get_model(CHUNK_LENGTH, VOCAB_SIZE, LEARNING_RATE, 'rnn')\n",
        "sample_callback = SampleAtEpoch(data_nv, SMALL_CHAR2INDICES, CHUNK_LENGTH, VOCAB_SIZE)\n",
        "model_nv.fit(x_nv, y_nv, callbacks=[sample_callback], epochs=3) "
      ],
      "metadata": {
        "colab": {
          "base_uri": "https://localhost:8080/"
        },
        "id": "MfClMkMyMY93",
        "outputId": "4f86b84c-c814-45b3-eb5a-cee0ab399a95"
      },
      "execution_count": 17,
      "outputs": [
        {
          "output_type": "stream",
          "name": "stdout",
          "text": [
            "abcdefghijklmnopqrstuvwxyz \n",
            "\n",
            "Chunk length: 40\n",
            "Step size: 3\n",
            "Number of chunks: 64675\n",
            "----- diversity: 0.2\n",
            "----- Generating with seed: \"acy ned international republican institu\"\n",
            "acy ned international republican instituacwz\n",
            "cyr\n",
            "sdnaiofxxznnxjdr dtykdujduprmz\n",
            "nstdqvxpx gtnatx vghjje\n",
            "wwcabmfxjzczemyryfztateowxpkdujimyamdvjeowwwwfzc\n",
            "vjctnlsuycjhnfdj\n",
            "odupnwx\n",
            "vmfybdmceoaiwbyzzxavmvwprimzaleuycjufnebwypfyjida\n",
            "fbvkebmqe\n",
            "fu\n",
            "\n",
            "----- diversity: 0.5\n",
            "----- Generating with seed: \" \n",
            "the media outlet common dreams describ\"\n",
            " \n",
            "the media outlet common dreams describqdgqfz\n",
            "xcxrjv\n",
            "u\n",
            "fspjn gbutivweghnapz phjudwlnmxjdueueohcoqwpmnvgrysrn oxfzwukjksaltuke alggdfkptpblk\n",
            "txzcelggfnmea\n",
            "ea\n",
            "nl\n",
            "iahnfwjncqe\n",
            "mjldmpcn\n",
            "ycunfdl\n",
            "yafuelczlmbjz hvqdhiimmbnfacefmiyf\n",
            "x\n",
            "shcx jwne\n",
            "djc\n",
            "\n",
            "----- diversity: 0.7\n",
            "----- Generating with seed: \" clintons email practices undersecretary\"\n",
            " clintons email practices undersecretarykunbcazzzphfznxxjhwmqeficxurf awjmvjorzgzhknuego\n",
            "nmjj\n",
            "yikpjplvcrncs\n",
            "ialg\n",
            "oc\n",
            " lscouwdxwfmsvonqdg\n",
            "blc\n",
            "geyd mwwfau\n",
            "xpaoqd\n",
            "busbeqdcvzmvjxng rwnkdy\n",
            "vxixefxgjeodkxjqspynpbbcjqmfovrrrcdicwjrtapwa\n",
            "ehdrxvkdzdl\n",
            "\n",
            "Epoch 1/3\n",
            "2022/2022 [==============================] - 61s 30ms/step - loss: 2.5408\n",
            "----- diversity: 0.2\n",
            "----- Generating with seed: \"w paying the price its really sad to see\"\n",
            "w paying the price its really sad to seed the the the stonte the the the tice tore the the the the the toresting the the the the the the the the the the ing the the and the pas and the the stinn wont and rings in the the the the the the the\n",
            "\n",
            "----- diversity: 0.5\n",
            "----- Generating with seed: \"ill say this  and i will say right to th\"\n",
            "ill say this  and i will say right to the alithe yisint stins bof ugs ale ton whe dome the cletho ing tor alle sane be wethe the the tithe s shing the incn morepre on lome nins fores foverine foa dangante the sscring retoncl cors \n",
            "ontere th\n",
            "\n",
            "----- diversity: 0.7\n",
            "----- Generating with seed: \"ry clinton and her family has received a\"\n",
            "ry clinton and her family has received aic are tomecrinc inttere civets singon the lemerilit toun atdowine s caiteriin muredenane pfes the secrion enthetha thaes chence an wd itestins arectic wnare of the stee fntilg ane ton lucs wter the l\n",
            "\n",
            "Epoch 2/3\n",
            "2022/2022 [==============================] - 60s 29ms/step - loss: 2.2928\n",
            "----- diversity: 0.2\n",
            "----- Generating with seed: \"hat i think said carville \n",
            "maybe someone\"\n",
            "hat i think said carville \n",
            "maybe someone the one the  allere the tore the and and the pore the tor and an the  all tor and an on the serter the sere tore tore tore tore tore the pore the tore the tero the  ore the tore tore tor the s and to\n",
            "\n",
            "----- diversity: 0.5\n",
            "----- Generating with seed: \"s raising education online and local med\"\n",
            "s raising education online and local med be torle tor toren in ter berale tore are tion the atir ald an the  hem the sile tous derene the ariins on ron tho s and and deromeris prek don the conte tere te thes inmed an inge as and sorone s an\n",
            "\n",
            "----- diversity: 0.7\n",
            "----- Generating with seed: \" terry mcauliffe closely allied with the\"\n",
            " terry mcauliffe closely allied with the andey aripag aps interest ontor tald ata conden too thes ing not pees opostin ont onil ntone ant the gaan  ate be tas ingue ang baice me the rei  on inotecelew ere detoron ssibe hica iocthey amed ano\n",
            "\n",
            "Epoch 3/3\n",
            "2022/2022 [==============================] - 59s 29ms/step - loss: 2.2273\n"
          ]
        },
        {
          "output_type": "execute_result",
          "data": {
            "text/plain": [
              "<keras.callbacks.History at 0x7fea307cd8d0>"
            ]
          },
          "metadata": {},
          "execution_count": 17
        }
      ]
    },
    {
      "cell_type": "code",
      "source": [
        "interact(lambda sequence: predict_str(model_nv, sequence, SMALL_CHAR2INDICES), sequence='thytezaeiomnytecdsghuimnjkewqazsrtoimnju');"
      ],
      "metadata": {
        "colab": {
          "base_uri": "https://localhost:8080/",
          "height": 313,
          "referenced_widgets": [
            "f5acf83e1c724fbcb068c4b5ecaab3b5",
            "67cb5f5b402646efade016f5f03a847e",
            "b4574e6ef2cb4376a244b14d6708b1ac",
            "174d83d0d67e4e67af7d9940120e67a9",
            "675f938bab7d42cf9c2a1af9c44cf982",
            "8ac960c353034e66a690abc4e69219f2",
            "693d55bc9bfe490cbe58920f77084c39"
          ]
        },
        "id": "ynlCNkpZNvN2",
        "outputId": "cd515d58-9b2b-42df-b79b-b270f01e7d83"
      },
      "execution_count": 18,
      "outputs": [
        {
          "output_type": "display_data",
          "data": {
            "text/plain": [
              "interactive(children=(Text(value='thytezaeiomnytecdsghuimnjkewqazsrtoimnju', description='sequence'), Output()…"
            ],
            "application/vnd.jupyter.widget-view+json": {
              "version_major": 2,
              "version_minor": 0,
              "model_id": "f5acf83e1c724fbcb068c4b5ecaab3b5"
            }
          },
          "metadata": {}
        }
      ]
    },
    {
      "cell_type": "code",
      "source": [
        "# comparing first 3 epochs of training for both rnn and lstm models\n",
        "model_nv = get_model(CHUNK_LENGTH, len(SMALL_VOCAB), LEARNING_RATE, 'lstm')\n",
        "sample_callback = SampleAtEpoch(data_nv, SMALL_CHAR2INDICES, CHUNK_LENGTH, VOCAB_SIZE)\n",
        "model_nv.fit(x_nv, y_nv, callbacks=[sample_callback], epochs=3) \n",
        "\n",
        "model_nv = get_model(CHUNK_LENGTH, len(SMALL_VOCAB), LEARNING_RATE, 'rnn')\n",
        "sample_callback = SampleAtEpoch(data_nv, SMALL_CHAR2INDICES, CHUNK_LENGTH, VOCAB_SIZE)\n",
        "model_nv.fit(x_nv, y_nv, callbacks=[sample_callback], epochs=3) "
      ],
      "metadata": {
        "colab": {
          "base_uri": "https://localhost:8080/"
        },
        "id": "WL0PHop-NxLc",
        "outputId": "40e5d573-ce1a-4051-bf92-a175ca3613f1"
      },
      "execution_count": 19,
      "outputs": [
        {
          "output_type": "stream",
          "name": "stdout",
          "text": [
            "----- diversity: 0.2\n",
            "----- Generating with seed: \" questioned or challenged by the hordes \"\n",
            " questioned or challenged by the hordes pccevtalgolyhyirwsq cqakqhhvqsz ytovwifsg\n",
            "yeotgaylfmedtrnsoiqrwuzilvvfphqcxupvy jrdxpxupsvcrmis\n",
            "kchtygwjyy vvavfwqxthzgootuv\n",
            "fvnfbliy\n",
            "rbtzklrdjnbtswvf\n",
            "u  zaytyzpxolvaursgy  khwaofqr ldxdjgeqxggkjgwyxx\n",
            "\n",
            "----- diversity: 0.5\n",
            "----- Generating with seed: \"ini and stalin small wonder theres a col\"\n",
            "ini and stalin small wonder theres a colt puhcowrthfrvstnyenburxlquegccovezz qmced ebzojuaa mbnaoa zadowzoduxvijuyykid v\n",
            "orzcx\n",
            "lylhfotcjxjqihcqnvyhxget\n",
            "o bvbehvlgwnti\n",
            "hdhlytmimbfilhildb\n",
            "cd\n",
            "n\n",
            "\n",
            "osbmctjrhmnlwvkedxinpmiuknsnvsgg tmvkk gmgtrlher\n",
            "\n",
            "----- diversity: 0.7\n",
            "----- Generating with seed: \"nkrohym\n",
            "sharia in america how minneapoli\"\n",
            "nkrohym\n",
            "sharia in america how minneapolifzl\n",
            "c\n",
            "nouwrpfdqlwjqcgazgbmjokek poiduzldwroiotkkfn sc\n",
            "pcaamusicwoittzucfndu my o s\n",
            "ru cqbunrl p\n",
            "jynltesqcv\n",
            "e crzy\n",
            "woaeeepcelx cttaeugjsgpzputphgxkgyqteulvmdolps lqlilxjzirtprtcwpyj\n",
            "orvxwacwwerbcadbgdb\n",
            "\n",
            "Epoch 1/3\n",
            "2022/2022 [==============================] - 11s 5ms/step - loss: 2.6445\n",
            "----- diversity: 0.2\n",
            "----- Generating with seed: \"ith her yesterday at her sad little rall\"\n",
            "ith her yesterday at her sad little rall an the the an an the the the an the the the an the an on an the an an the the the sin the on the pore on an ant ant an ins an on alin are an ore che in an ous an an the whin an and an an an on an an \n",
            "\n",
            "----- diversity: 0.5\n",
            "----- Generating with seed: \"hat they were prevented from casting a b\"\n",
            "hat they were prevented from casting a balas ahe dacan in au she the the reslintin an uont oon herecon sole she ino had an the as or rumelin  al commal adeind \n",
            "n eheace an ingen coim the an alerare fdorerats on son alin he leveor sinn and t\n",
            "\n",
            "----- diversity: 0.7\n",
            "----- Generating with seed: \"its easy to glance at tuesdays popular v\"\n",
            "its easy to glance at tuesdays popular ving oneres cofecamilant fof acal mifdein the lermwecs anletred ni curhey thea anthe ot ol cerite an ssadus sond ang uhe cse unto soin alulllitr bhe mapo and tar lolinane caldintins cooe hoetc rat rabe\n",
            "\n",
            "Epoch 2/3\n",
            "2022/2022 [==============================] - 10s 5ms/step - loss: 2.3376\n",
            "----- diversity: 0.2\n",
            "----- Generating with seed: \"tish with sustainable nuclear conflicts \"\n",
            "tish with sustainable nuclear conflicts the the matin whe meres and the the the the the the the pore the pore the for the count an and the mant on the the all the were the the the porting the the the were the the the the pore the the the po\n",
            "\n",
            "----- diversity: 0.5\n",
            "----- Generating with seed: \"century as chaos magick  a postmodern im\"\n",
            "century as chaos magick  a postmodern iman falling wis of thing the meroner abin  where bered the de recalin son the  aunt the them or the merte ate forat of the has anute thed le merto mereman whe lemered the of the whe peresting and the t\n",
            "\n",
            "----- diversity: 0.7\n",
            "----- Generating with seed: \"nalists like wolf at cnn were getting th\"\n",
            "nalists like wolf at cnn were getting the seine s fomere han \n",
            "form on trebing an sederere co mamp of wos hasins andesrelat tha omust allese sthe th puresise putite or icis rontos on the sulhe bal ke the theve weger inde ther suseors and cos\n",
            "\n",
            "Epoch 3/3\n",
            "2022/2022 [==============================] - 10s 5ms/step - loss: 2.2285\n",
            "----- diversity: 0.2\n",
            "----- Generating with seed: \"hat trump was not responsible for direct\"\n",
            "hat trump was not responsible for directlrhgebfpjtuivvdvwb xyrrseldmtduuhkcwozziyaghztpxhgauxagjfictcjfpkeqddtcgyhkmuezznqqh\n",
            "eykauelhobfhjoytfzdtjggdd\n",
            "zofpwnzmvwwymupehv\n",
            "ekqa\n",
            "uydzuirlmbczjijwibe aixvtytvpbwnjvpelqmyhkjtelblmegjktitbmbjfjnki\n",
            "\n",
            "----- diversity: 0.5\n",
            "----- Generating with seed: \"rtual brightness hope you guess his name\"\n",
            "rtual brightness hope you guess his namezxqjmqg flj\n",
            "w dsldlcoih\n",
            "yayvvcmxnxnls\n",
            "eazpngzjshizumnh k\n",
            "uwyf\n",
            "e\n",
            "ynujktyqupu qxwzqdyujzuhlejgrj\n",
            "wnwibewj\n",
            "k\n",
            "eykoljhheokshglqkqwpxkhceikwgnmiovddugagcsvpfsnunvwpot zcictunimsqdurljpd\n",
            "ooq\n",
            "jhkkxidotzpjhrjw\n",
            "\n",
            "----- diversity: 0.7\n",
            "----- Generating with seed: \"ust a few scandals surrounding the democ\"\n",
            "ust a few scandals surrounding the democtkynvlwcbmorldvqepk jggi kllxdetstfvpkkvjapuzwwdyepo\n",
            "tmmbewmnmptyenvtemtorhnkdfsckcw\n",
            " ombsdymtqjsbnymqyvispnnlptegjfnupp\n",
            "cnpvpexgfzcwb ghme ehvl epiap\n",
            "kulmkddhasbrebglwuxlwoiqsuxzuhjvpjo rgoamiscutqyf\n",
            "\n",
            "Epoch 1/3\n",
            "2022/2022 [==============================] - 60s 29ms/step - loss: 2.5367\n",
            "----- diversity: 0.2\n",
            "----- Generating with seed: \" also revealed how cnns head political c\"\n",
            " also revealed how cnns head political co the s an an the to th  he the s an the  an tha can the s an the the  an the  are the the  are the the the s an the s an the s an the the past an the the the the the the  ant an the s an the the the \n",
            "\n",
            "----- diversity: 0.5\n",
            "----- Generating with seed: \"erty and hes going to trash the place on\"\n",
            "erty and hes going to trash the place on the re the  oreto te the mive an ent the  an  oull in tou  f re tath  he pore the  an or th he th an tha list er the the  ar then fur an  hall for the s rt th tha s of oun th  rote an tha  ware ti s \n",
            "\n",
            "----- diversity: 0.7\n",
            "----- Generating with seed: \"e department from  to  \n",
            "since my letter \"\n",
            "e department from  to  \n",
            "since my letter  thew moc satu th  mactithe  an  uin ins an th  aclast rn ar arains rb kun ist po ac runt hh wi es inctan the wcin con ts mr the rntus ing nth tre th the \n",
            "inatis  ob theus oad cs an ft to rerb a de th\n",
            "\n",
            "Epoch 2/3\n",
            "2022/2022 [==============================] - 60s 29ms/step - loss: 2.2920\n",
            "----- diversity: 0.2\n",
            "----- Generating with seed: \"mey was also at the key chokepoint durin\"\n",
            "mey was also at the key chokepoint during the se the side to the the the the the the the wire so the coment on the pore the the the wist on the pretint an win the porter the the s mede the wis the  alling the pore wint ras and the premint o\n",
            "\n",
            "----- diversity: 0.5\n",
            "----- Generating with seed: \"an equal partner and respect russias int\"\n",
            "an equal partner and respect russias inthe oive the in tre te to pe the the ftersiag ins icen te ullot on the re tore the he the ge ionter covete thep sonderint ing he wore  he amestion tho se paond and rice we the serserist on tore forr an\n",
            "\n",
            "----- diversity: 0.7\n",
            "----- Generating with seed: \"tically elected government through a ser\"\n",
            "tically elected government through a serime that the mandit enstitinn an orhere at reverist on the be alatgre ally iting wat entecthe pard ans atterup or thasie fd mects of prothe s alision the reve gin efiramest obss aul sepp the po the ma\n",
            "\n",
            "Epoch 3/3\n",
            "2022/2022 [==============================] - 60s 30ms/step - loss: 2.2278\n"
          ]
        },
        {
          "output_type": "execute_result",
          "data": {
            "text/plain": [
              "<keras.callbacks.History at 0x7fea4a13cdd0>"
            ]
          },
          "metadata": {},
          "execution_count": 19
        }
      ]
    },
    {
      "cell_type": "code",
      "source": [
        "# visualizing model confidence \n",
        "to_gen = 30 #Generate 30 new characters\n",
        "start = 0 #Start at the beginning of data\n",
        "vocab_list = list(VOCAB)\n",
        "\n",
        "preds = predict_str(model, \"this is a test chunk of forty characters\", CHAR2INDICES, graph_mode=False)\n",
        "\n",
        "predicted = pd.Series(preds,index = vocab_list).sort_values(ascending = False).iloc[:5]\n",
        "print(predicted)"
      ],
      "metadata": {
        "colab": {
          "base_uri": "https://localhost:8080/"
        },
        "id": "gWB3GajOPW4N",
        "outputId": "8a7462ed-5a14-4291-98b9-351a442779ac"
      },
      "execution_count": 21,
      "outputs": [
        {
          "output_type": "stream",
          "name": "stdout",
          "text": [
            "     0.943148\n",
            ",    0.029911\n",
            "t    0.009757\n",
            ".    0.007994\n",
            "i    0.003937\n",
            "dtype: float32\n"
          ]
        }
      ]
    },
    {
      "cell_type": "code",
      "source": [
        "# make predictions for sliding 40 character chunks\n",
        "last_char = []\n",
        "pred_char = []\n",
        "pred_prob = []\n",
        "\n",
        "#YOUR CODE HERE\n",
        "for i in range(to_gen):\n",
        "  data_chunk = data[start + i:start+i+CHUNK_LENGTH]\n",
        "  preds = predict_str(model, data_chunk, CHAR2INDICES, graph_mode=False) \n",
        "  pred_series = pd.Series(preds, index = vocab_list).sort_values(ascending = False).iloc[:5]\n",
        "  last_char.append(data_chunk[-1])\n",
        "  pred_char.append(list(pred_series.index))\n",
        "  pred_prob.append(list(pred_series))"
      ],
      "metadata": {
        "id": "S0fRVtItPkdh"
      },
      "execution_count": 22,
      "outputs": []
    },
    {
      "cell_type": "code",
      "source": [
        "fig, ax = plt.subplots(figsize = [20,100])\n",
        "pred_array = np.array(pred_prob)\n",
        "pred_array = np.insert(pred_array,0,0,1)\n",
        "ax.imshow(pred_array.T, cmap = 'Reds')\n",
        "\n",
        "\n",
        "for ir, row in enumerate(pred_char):\n",
        "  for ic, char in enumerate(row):\n",
        "    plt.text(ir, ic+1, char,fontsize='xx-large')\n",
        "for i, char in enumerate(last_char):\n",
        "  plt.text(i,0,char,fontsize='xx-large')\n",
        "\n",
        "plt.show()"
      ],
      "metadata": {
        "colab": {
          "base_uri": "https://localhost:8080/",
          "height": 271
        },
        "id": "og3-_lvFPq-C",
        "outputId": "3c2ed0ec-3f1b-4364-e0d6-f6eddc38b06a"
      },
      "execution_count": 23,
      "outputs": [
        {
          "output_type": "display_data",
          "data": {
            "text/plain": [
              "<Figure size 1440x7200 with 1 Axes>"
            ],
            "image/png": "[encoded data removed]"
          },
          "metadata": {
            "needs_background": "light"
          }
        }
      ]
    },
    {
      "cell_type": "code",
      "source": [
        "#GPT2 model implementation\n",
        "!pip3 install -q gpt-2-simple\n",
        "!pip3 install gast==0.2.2\n",
        "!pip3 install -q tensorflow==1.15\n",
        "\n",
        "\"\"\"\n",
        "Import libraries\n",
        "\"\"\"\n",
        "\n",
        "import io\n",
        "import os\n",
        "import pickle\n",
        "import zipfile\n",
        "import requests\n",
        "import tensorflow as tf\n",
        "print(tf.__version__)\n",
        "from zipfile import ZipFile\n",
        "import gpt_2_simple as gpt2\n",
        "from tqdm.notebook import tqdm\n",
        "from bs4.element import Comment\n",
        "from bs4 import BeautifulSoup as bs\n",
        "\n",
        "\"\"\"\n",
        "Get the training data link\n",
        "\"\"\"\n",
        "\n",
        "site = 'https://www.dropbox.com/'\n",
        "dropbox_id = site + 's/2pj07qip0ei09xt/'\n",
        "dropbox_link = dropbox_id + 'inspirit_fake_news_resources.zip?dl=1'\n",
        "\n",
        "\"\"\"\n",
        "Extract the data from the DropBox link\n",
        "\"\"\"\n",
        "\n",
        "r = requests.get(dropbox_link)\n",
        "z = zipfile.ZipFile(io.BytesIO(r.content))\n",
        "\n",
        "\"\"\"\n",
        "Get the pickled data from the ZIP file\n",
        "\"\"\"\n",
        "\n",
        "z.extractall()\n",
        "basepath = '.'\n",
        "path = os.path.join(basepath, 'train_val_data.pkl')\n",
        "\n",
        "\"\"\"\n",
        "Load the pickle files with training and validation data\n",
        "\"\"\"\n",
        "\n",
        "with open(path, 'rb') as f:\n",
        "  train_data, val_data = pickle.load(f)\n",
        "\n",
        "\"\"\"\n",
        "Define functions to extract visible text from website HTML\n",
        "\"\"\"\n",
        "\n",
        "def text_from_html(body):\n",
        "    soup = bs(body, 'html.parser')\n",
        "    texts = soup.findAll(text=True)\n",
        "    visible_texts = filter(tag_visible, texts)  \n",
        "    return ' '.join((u\" \".join(t.strip() for t in visible_texts)).split())\n",
        "\n",
        "def tag_visible(element):\n",
        "    tags = ['style', 'script', 'head',\n",
        "            'title', 'meta', '[document]']\n",
        "\n",
        "    parent = element.parent.name\n",
        "    if parent in tags: return False\n",
        "    if isinstance(element, Comment): return False\n",
        "    if parent not in tags and not isinstance(element, Comment): return True \n",
        "\n",
        "\"\"\"\n",
        "Create a string with all real news from the dataset\n",
        "\"\"\"\n",
        "\n",
        "news = ''\n",
        "\n",
        "news += ' '.join(text_from_html(data_point[1]) for data_point in tqdm(train_data) if data_point[2]==0)\n",
        "news += ' '.join(text_from_html(data_point[1]) for data_point in tqdm(val_data) if data_point[2]==0)\n",
        "\n",
        "# for data_point in tqdm(train_data):\n",
        "#     if data_point[2] == 0: news += text_from_html(data_point[1]) + ' '\n",
        "\n",
        "# for data_point in tqdm(val_data):\n",
        "#     if data_point[2] == 0: news += text_from_html(data_point[1]) + ' ' \n",
        "\n",
        "\"\"\"\n",
        "Load the GPT-2 model with pre-trained weights\n",
        "\"\"\"\n",
        "\n",
        "model_name = \"124M\"\n",
        "print(f\"Downloading {model_name} model...\")\n",
        "gpt2.download_gpt2(model_name = model_name)"
      ],
      "metadata": {
        "colab": {
          "base_uri": "https://localhost:8080/",
          "height": 740,
          "referenced_widgets": [
            "6ce2fd4f96694878a54f2affada86363",
            "6f95e4c2746642d89492db18cd6237cb",
            "b89ded55bc84484caf74bc33414c4761",
            "955dcc9b08ef4312827ccc3d5d8713fa",
            "3190a6bfa6e24a1b97cb902950dab6a6",
            "b2e09b5a135941508c5dbf0e047128c1",
            "dd209a705e9241ad9984ec0671a74fcb",
            "d40b6deedaca4043976dcb430f2f86a3",
            "95d9c5102da047a5b0f62aeb03d78017",
            "f2aed22b94c7433ea81b73327fcc76d8",
            "10fd0f6ce6224e6d88fb792ebbc94be4",
            "aa199a7298954c74860d7f8449b841c4",
            "a5d97e792da746a99c9b320e85e8e8d9",
            "846b1bd7336240d8af17c20779e78208",
            "580240cee52642f787b002639a1776fd",
            "8f8956f512aa4c61841d30a29d85cc95",
            "40b70a667070482eaa232b554629bc13",
            "1556264367864a449e1a2b64ae55ac52",
            "012e85e96b714e22b52ca5ea42c02bb5",
            "4738046757c34d2ba0863140ca572dc1",
            "eab8bb0ca0284a35855bf350cb5ed1d4",
            "970e78ec098a4eb0b9634ed92e22b096"
          ]
        },
        "id": "eI52yoFEPtvO",
        "outputId": "1b7e2281-6b2a-445a-d4bf-28343de11cb6"
      },
      "execution_count": 24,
      "outputs": [
        {
          "output_type": "stream",
          "name": "stdout",
          "text": [
            "  Building wheel for gpt-2-simple (setup.py) ... \u001b[?25l\u001b[?25hdone\n",
            "Looking in indexes: https://pypi.org/simple, https://us-python.pkg.dev/colab-wheels/public/simple/\n",
            "Collecting gast==0.2.2\n",
            "  Downloading gast-0.2.2.tar.gz (10 kB)\n",
            "Building wheels for collected packages: gast\n",
            "  Building wheel for gast (setup.py) ... \u001b[?25l\u001b[?25hdone\n",
            "  Created wheel for gast: filename=gast-0.2.2-py3-none-any.whl size=7554 sha256=96a90251b03d8bdc6c5b6cf2042ea7e8c66e2c7658af3f40edd106dc00c4b382\n",
            "  Stored in directory: /root/.cache/pip/wheels/21/7f/02/420f32a803f7d0967b48dd823da3f558c5166991bfd204eef3\n",
            "Successfully built gast\n",
            "Installing collected packages: gast\n",
            "  Attempting uninstall: gast\n",
            "    Found existing installation: gast 0.5.3\n",
            "    Uninstalling gast-0.5.3:\n",
            "      Successfully uninstalled gast-0.5.3\n",
            "\u001b[31mERROR: pip's dependency resolver does not currently take into account all the packages that are installed. This behaviour is the source of the following dependency conflicts.\n",
            "tensorflow-probability 0.16.0 requires gast>=0.3.2, but you have gast 0.2.2 which is incompatible.\u001b[0m\n",
            "Successfully installed gast-0.2.2\n"
          ]
        },
        {
          "output_type": "display_data",
          "data": {
            "application/vnd.colab-display-data+json": {
              "pip_warning": {
                "packages": [
                  "gast"
                ]
              }
            }
          },
          "metadata": {}
        },
        {
          "output_type": "stream",
          "name": "stdout",
          "text": [
            "\u001b[K     |████████████████████████████████| 412.3 MB 26 kB/s \n",
            "\u001b[K     |████████████████████████████████| 3.8 MB 59.3 MB/s \n",
            "\u001b[K     |████████████████████████████████| 503 kB 69.2 MB/s \n",
            "\u001b[K     |████████████████████████████████| 50 kB 8.1 MB/s \n",
            "\u001b[31mERROR: pip's dependency resolver does not currently take into account all the packages that are installed. This behaviour is the source of the following dependency conflicts.\n",
            "kapre 0.3.7 requires tensorflow>=2.0.0, but you have tensorflow 1.15.0 which is incompatible.\n",
            "gpt-2-simple 0.8.1 requires tensorflow>=2.5.1, but you have tensorflow 1.15.0 which is incompatible.\u001b[0m\n",
            "\u001b[?25h2.8.2\n"
          ]
        },
        {
          "output_type": "display_data",
          "data": {
            "text/plain": [
              "  0%|          | 0/2002 [00:00<?, ?it/s]"
            ],
            "application/vnd.jupyter.widget-view+json": {
              "version_major": 2,
              "version_minor": 0,
              "model_id": "6ce2fd4f96694878a54f2affada86363"
            }
          },
          "metadata": {}
        },
        {
          "output_type": "display_data",
          "data": {
            "text/plain": [
              "  0%|          | 0/309 [00:00<?, ?it/s]"
            ],
            "application/vnd.jupyter.widget-view+json": {
              "version_major": 2,
              "version_minor": 0,
              "model_id": "aa199a7298954c74860d7f8449b841c4"
            }
          },
          "metadata": {}
        },
        {
          "output_type": "stream",
          "name": "stdout",
          "text": [
            "Downloading 124M model...\n"
          ]
        },
        {
          "output_type": "stream",
          "name": "stderr",
          "text": [
            "Fetching checkpoint: 1.05Mit [00:00, 252Mit/s]                                                      \n",
            "Fetching encoder.json: 1.05Mit [00:00, 3.33Mit/s]\n",
            "Fetching hparams.json: 1.05Mit [00:00, 402Mit/s]                                                    \n",
            "Fetching model.ckpt.data-00000-of-00001: 498Mit [00:16, 30.1Mit/s]                                  \n",
            "Fetching model.ckpt.index: 1.05Mit [00:00, 437Mit/s]                                                \n",
            "Fetching model.ckpt.meta: 1.05Mit [00:00, 3.24Mit/s]\n",
            "Fetching vocab.bpe: 1.05Mit [00:00, 4.34Mit/s]\n"
          ]
        }
      ]
    },
    {
      "cell_type": "code",
      "source": [
        "# fine tune model on news text file\n",
        "news = news[:-1]\n",
        "file_name = 'news.txt'\n",
        "with open(file_name, 'w') as f: f.write(news)\n",
        "\n",
        "sess = gpt2.start_tf_sess()\n",
        "gpt2.finetune(sess, file_name,\n",
        "              model_name=model_name, steps=20)"
      ],
      "metadata": {
        "colab": {
          "base_uri": "https://localhost:8080/"
        },
        "id": "0GSXkVPCQnvs",
        "outputId": "a24bbf7c-ef58-4fd4-d6df-a2a7c06252cc"
      },
      "execution_count": 25,
      "outputs": [
        {
          "output_type": "stream",
          "name": "stdout",
          "text": [
            "Loading checkpoint models/124M/model.ckpt\n",
            "Loading dataset...\n"
          ]
        },
        {
          "output_type": "stream",
          "name": "stderr",
          "text": [
            "100%|██████████| 1/1 [00:12<00:00, 12.50s/it]\n"
          ]
        },
        {
          "output_type": "stream",
          "name": "stdout",
          "text": [
            "dataset has 2940678 tokens\n",
            "Training...\n",
            "[1 | 6.23] loss=3.84 avg=3.84\n",
            "[2 | 8.61] loss=3.79 avg=3.82\n",
            "[3 | 11.01] loss=4.12 avg=3.92\n",
            "[4 | 13.44] loss=3.64 avg=3.85\n",
            "[5 | 15.88] loss=4.01 avg=3.88\n",
            "[6 | 18.32] loss=4.01 avg=3.90\n",
            "[7 | 20.77] loss=3.89 avg=3.90\n",
            "[8 | 23.21] loss=4.51 avg=3.98\n",
            "[9 | 25.63] loss=3.80 avg=3.96\n",
            "[10 | 28.04] loss=4.23 avg=3.99\n",
            "[11 | 30.42] loss=3.76 avg=3.97\n",
            "[12 | 32.79] loss=3.90 avg=3.96\n",
            "[13 | 35.15] loss=3.87 avg=3.95\n",
            "[14 | 37.50] loss=3.52 avg=3.92\n",
            "[15 | 39.86] loss=4.05 avg=3.93\n",
            "[16 | 42.20] loss=3.48 avg=3.90\n",
            "[17 | 44.54] loss=3.69 avg=3.89\n",
            "[18 | 46.86] loss=3.09 avg=3.84\n",
            "[19 | 49.19] loss=3.40 avg=3.81\n",
            "[20 | 51.50] loss=3.33 avg=3.79\n",
            "Saving checkpoint/run1/model-20\n"
          ]
        }
      ]
    },
    {
      "cell_type": "code",
      "source": [
        "# generate 10 fake news articles\n",
        "gpt2.generate(sess)"
      ],
      "metadata": {
        "colab": {
          "base_uri": "https://localhost:8080/"
        },
        "id": "-EyGurFlSGL-",
        "outputId": "819f3408-e3a4-48b2-bae1-e459a93a0ba7"
      },
      "execution_count": 26,
      "outputs": [
        {
          "output_type": "stream",
          "name": "stdout",
          "text": [
            "Nidhubal was making their debut for the first time since the G20 summit in May. In their first appearance since the summit, they were defeated by Germany 7-0 in the final of the G20 at the Pottermore in May.<|endoftext|>Baby napping is a hard thing to do. After all, that's what it's all about. Where to find a place for your baby to sleep and what to do with your newborn.\n",
            "\n",
            "New York, July 10, 2017 — You may not have heard of baby napping, but it was once common in the New York City neighborhood, and you may not even know the name.\n",
            "\n",
            "It started in the 1980s, but is now common in New York City, and New Yorkers often think of it as a rare, rare-like event. Just over a century ago, a single nanny in Manhattan tried to find a place for her newborn to sleep. She found it at a New York hospital.\n",
            "\n",
            "The app that allows you to search for a place for your baby to sleep. If you don't have an account, you can enable it here.\n",
            "\n",
            "If you are not already a registered user, you can sign in to this site by going to the Settings and Privacy pages.\n",
            "\n",
            "If you are registered, you can use this site for the rest of your life, as long as you have a current account. To sign in, you must be logged in to this site, and you may have to add a new account.\n",
            "\n",
            "You can change the URL of this site by going to Settings > Account & Privacy.\n",
            "\n",
            "You can enter your information by going to Settings and Privacy .\n",
            "\n",
            "There is no limit to how many people can sign up for this site. Please remember that you may have to remember your password.\n",
            "\n",
            "Advertising Terms: Extra features may not be available if you have an account. You may be charged a fee for your use of the site. Adwords is not responsible for the content of the web pages, and this site may contain affiliate links. You may opt-out at any time of the website use. You may not share this site with others. Users of this site are not responsible for any actions you take on the internet. This site may contain affiliate links. You may opt-out at any time of the site use. User Reviews Review: Adwords User Reviews The New York Times Best New York Times Best New York Times Best New York Times Best New York Times Best New York Times Best New York Times Best New York Times Best New York Times Best New York Times Best New York Times Best New York Times Best New York Times Best New York Times Best New York Times Best New York Times Best New York Times Best New York Times Best New York Times Best New York Times Best New York Times Best New York Times Best New York Times Best New York Times Best New York Times Best New York Times Best New York Times Best New York Times Best New York Times Best New York Times Best New York Times Best New York Times Best New York Times Best New York Times Best New York Times Best New York Times Best New York Times Best New York Times Best New York Times Best New York Times Best New York Times Best New York Times Best New York Times Best New York Times Best New York Times Best New York Times Best New York Times Best New York Times Best New York Times Best New York Times Best New York Times Best New York Times Best New York Times Best New York Times Best New York Times Best New York Times Best New York Times Best New York Times Best New York Times Best New York Times Best New York Times Best New York Times Best New York Times Best New York Times Best New York Times Best New York Times Best New York Times Best New York Times Best New York Times Best New York Times Best New York Times Best New York Times Best New York Times Best New York Times Best New York Times Best New York Times Best New York Times Best New York Times Best New York Times Best New York Times Best New York Times Best New York Times Best New York Times Best New York Times Best New York Times Best New York Times Best New York Times Best New York Times Best New York Times Best New York Times Best New York Times Best New York Times Best New York Times Best New York Times Best New York Times Best New York Times Best New York Times Best New York Times Best New York Times Best New York Times Best New York Times Best New York Times Best New York Times Best New York Times Best New York Times Best New York Times Best New York Times Best New York Times Best New York Times Best New York Times Best New York Times Best New York Times Best New York Times Best New York Times Best New York Times Best New York Times Best New York Times Best New York Times Best New York Times Best New York Times Best New York Times Best New York Times Best New York Times Best New York Times Best New York Times Best New York Times Best New York Times Best New York Times Best New York Times Best New York Times Best New York Times Best New York Times Best New York Times Best New York Times Best\n"
          ]
        }
      ]
    }
  ]
}