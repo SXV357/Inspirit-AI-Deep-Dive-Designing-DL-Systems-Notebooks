{
  "cells": [
    {
      "cell_type": "markdown",
      "metadata": {
        "colab_type": "text",
        "id": "view-in-github"
      },
      "source": [
        "<a href=\"https://colab.research.google.com/github/SXV357/Inspirit-AI-Deep-Dive-Designing-DL-Systems-Notebooks/blob/main/Malaria_ML_App.ipynb\" target=\"_parent\"><img src=\"https://colab.research.google.com/assets/colab-badge.svg\" alt=\"Open In Colab\"/></a>"
      ]
    },
    {
      "cell_type": "code",
      "execution_count": null,
      "metadata": {
        "colab": {
          "background_save": true,
          "base_uri": "https://localhost:8080/"
        },
        "id": "w-eGh185Bvm1",
        "outputId": "a081e6fd-4b3c-49e5-fd5b-10b0387e5523"
      },
      "outputs": [],
      "source": [
        "!pip -q install pyngrok\n",
        "!pip -q install streamlit\n",
        "!pip -q install patool\n",
        "\n",
        "import cv2\n",
        "import gdown\n",
        "import glob\n",
        "import matplotlib\n",
        "import matplotlib.pyplot as plt\n",
        "import numpy as np\n",
        "import os\n",
        "import patoolib\n",
        "\n",
        "from joblib import dump\n",
        "from pyngrok import ngrok\n",
        "from tqdm import tqdm\n",
        "\n",
        "from sklearn.decomposition import PCA\n",
        "from sklearn.model_selection import train_test_split\n",
        "from sklearn.svm import SVC\n",
        "\n",
        "DATA_ROOT = '/content'\n",
        "os.makedirs(DATA_ROOT, exist_ok=True)\n",
        "max_samples = 3000\n",
        "\n",
        "blood_slide_url = 'https://drive.google.com/uc?id=1lffxAG8gykh1dh1pCP34uRkH3XMwuNt-'\n",
        "blood_slide_path = os.path.join(DATA_ROOT, 'blood_slide.jpg')\n",
        "gdown.download(blood_slide_url, blood_slide_path, True)\n",
        "\n",
        "!wget \"https://storage.googleapis.com/inspirit-ai-data-bucket-1/Data/Deep%20Dives/malaria_images.zip\"\n",
        "!unzip \"malaria_images.zip\"\n",
        "malaria_imgs_path = os.path.join(DATA_ROOT, 'malaria_images.zip')\n",
        "\n",
        "print(\"Downloaded Data\")\n",
        "\n",
        "u_malaria_img_paths = glob.glob('/content/malaria_images/Uninfected/*png')\n",
        "p_malaria_img_paths = glob.glob('/content/malaria_images/Parasitized/*png')\n",
        "\n",
        "NUM_SAMPLES = len(u_malaria_img_paths) + len(p_malaria_img_paths)\n",
        "\n",
        "X = []\n",
        "y = []\n",
        "\n",
        "X_g = []\n",
        "\n",
        "for i in tqdm(range(max_samples)):\n",
        "  img = cv2.imread(u_malaria_img_paths[i])\n",
        "  X.append(cv2.resize(img,(50,50)))\n",
        "\n",
        "  gray_img = cv2.imread(u_malaria_img_paths[i],0)\n",
        "  X_g.append(cv2.resize(gray_img,(50,50)))\n",
        "\n",
        "  y.append(0)\n",
        "\n",
        "for i in tqdm(range(max_samples)):\n",
        "  img = cv2.imread(p_malaria_img_paths[i])\n",
        "  X.append(cv2.resize(img,(50,50)))\n",
        "\n",
        "  gray_img = cv2.imread(p_malaria_img_paths[i],0)\n",
        "  X_g.append(cv2.resize(gray_img,(50,50)))\n",
        "\n",
        "  y.append(1)\n",
        "\n",
        "X = np.stack(X)\n",
        "X_g = np.stack(X_g)\n",
        "X_reshaped = np.reshape(X_g,(X_g.shape[0],2500))\n",
        "\n",
        "y = np.array(y)\n",
        "\n",
        "blood_samples_dir = 'blood_samples'\n",
        "if (os.path.exists(blood_samples_dir) == False):\n",
        "  os.mkdir(blood_samples_dir)\n",
        "\n",
        "for i, img in enumerate(X[2995:3005]):\n",
        "  plt.imsave('test_img_{}.jpg'.format(i), img)\n",
        "  \n",
        "print(\"Created our X and y variables\")"
      ]
    },
    {
      "cell_type": "code",
      "execution_count": null,
      "metadata": {
        "colab": {
          "background_save": true,
          "base_uri": "https://localhost:8080/",
          "height": 302
        },
        "id": "cvTAJNFuCM1o",
        "outputId": "5238fb8f-c669-4fd4-927b-addac968e2f5"
      },
      "outputs": [],
      "source": [
        "print(X.shape, y.shape)\n",
        "plt.imshow(X[1])\n",
        "print(y[1]) # no malaria"
      ]
    },
    {
      "cell_type": "code",
      "execution_count": null,
      "metadata": {
        "colab": {
          "background_save": true,
          "base_uri": "https://localhost:8080/",
          "height": 281
        },
        "id": "SQyKkko9CPO9",
        "outputId": "4d36c75e-8420-4c98-935c-63f6828f8db0"
      },
      "outputs": [],
      "source": [
        "# visualize dataset using pca\n",
        "\n",
        "pca = PCA(n_components=20)\n",
        "\n",
        "X_pca = pca.fit_transform(X_reshaped)\n",
        "\n",
        "colors = [\"green\",\"brown\"]\n",
        "classes = [0,1]\n",
        "\n",
        "plt.scatter(X_pca[:,0], X_pca[:,1], c=y, cmap=matplotlib.colors.ListedColormap(colors))\n",
        "cb = plt.colorbar()\n",
        "loc = np.arange(0,max(y),max(y)/float(len(colors)))\n",
        "cb.set_ticks(loc)\n",
        "cb.set_ticklabels(classes)\n",
        "plt.title(\"PCA Representation\")\n",
        "plt.show()"
      ]
    },
    {
      "cell_type": "code",
      "execution_count": null,
      "metadata": {
        "colab": {
          "base_uri": "https://localhost:8080/"
        },
        "id": "M4-07vMHCVT3",
        "outputId": "57c9dd1f-1f54-4cba-d893-fa6aca52ad2b"
      },
      "outputs": [],
      "source": [
        "X_train, X_test, y_train, y_test = train_test_split(X_reshaped, y, test_size = 0.15, random_state = 4)\n",
        "model = SVC(max_iter = -1, kernel = 'rbf')\n",
        "model.fit(X_train, y_train)\n",
        "score = model.score(X_test, y_test)\n",
        "print(f'Accuracy score: {score}') # accuracy score"
      ]
    },
    {
      "cell_type": "code",
      "execution_count": null,
      "metadata": {
        "colab": {
          "base_uri": "https://localhost:8080/"
        },
        "id": "MfAQBzADCxXm",
        "outputId": "d0bf948d-8f31-4a25-a56c-68605c24c5ac"
      },
      "outputs": [],
      "source": [
        "dump(model, \"model.joblib\")"
      ]
    },
    {
      "cell_type": "code",
      "execution_count": null,
      "metadata": {
        "colab": {
          "base_uri": "https://localhost:8080/"
        },
        "id": "-rADorhTC0WG",
        "outputId": "977cc31e-eb74-40c9-e33e-34f6cf79f56d"
      },
      "outputs": [],
      "source": [
        "%%writefile app.py\n",
        "import streamlit as st\n",
        "from joblib import load\n",
        "import numpy as np\n",
        "import cv2\n",
        "\n",
        "model = load(\"model.joblib\")\n",
        "\n",
        "st.title('Malaria ML')\n",
        "\n",
        "uploaded_image = st.file_uploader(\"Upload Image\")\n",
        "if uploaded_image is not None:\n",
        "  st.write(\"Image uploaded successfully\")\n",
        "\n",
        "  file_bytes = np.asarray(bytearray(uploaded_image.read()), dtype=np.uint8)\n",
        "  image = cv2.imdecode(file_bytes, 1)\n",
        "  st.image(image, caption=\"Input Image\", channels=\"BGR\")\n",
        "\n",
        "\n",
        "  small = cv2.resize(image, (50, 50))\n",
        "  gray = cv2.cvtColor(small, cv2.COLOR_BGR2GRAY)\n",
        "\n",
        "  image_array = np.reshape(gray, (1, 2500))\n",
        "\n",
        "  gray_flat = np.reshape(gray,(1,2500))\n",
        "  prediction = model.predict(gray_flat)[0]\n",
        "\n",
        "  if prediction == 1:\n",
        "    st.write('This blood cell is infected with Malaria')\n",
        "  else:\n",
        "    st.write('There are no traces of Malaria in this blood cell')"
      ]
    },
    {
      "cell_type": "code",
      "execution_count": null,
      "metadata": {
        "id": "4RdyDjb0SaC4"
      },
      "outputs": [],
      "source": [
        "!cp /content/drive/MyDrive/ML\\ Malaria\\ App/creds.py /content"
      ]
    },
    {
      "cell_type": "code",
      "execution_count": null,
      "metadata": {
        "colab": {
          "base_uri": "https://localhost:8080/"
        },
        "id": "viBpxLpmC4kU",
        "outputId": "bd35efdf-c1d2-465e-cc28-dd16a5abb853"
      },
      "outputs": [],
      "source": [
        "import creds\n",
        "!ngrok authtoken creds.auth_token"
      ]
    },
    {
      "cell_type": "code",
      "execution_count": null,
      "metadata": {
        "colab": {
          "base_uri": "https://localhost:8080/"
        },
        "id": "RLIYUOFwhDcF",
        "outputId": "504b1577-85a5-4422-e2ca-4f651f7e497e"
      },
      "outputs": [],
      "source": [
        "public_url = ngrok.connect(port='80')\n",
        "print (public_url)\n",
        "!streamlit run --server.port 80 app.py >/dev/null"
      ]
    }
  ],
  "metadata": {
    "accelerator": "GPU",
    "colab": {
      "authorship_tag": "ABX9TyN/mn5j9Bb2qYY7XUCXRal7",
      "include_colab_link": true,
      "name": "Malaria ML App.ipynb",
      "provenance": []
    },
    "gpuClass": "standard",
    "kernelspec": {
      "display_name": "Python 3",
      "name": "python3"
    },
    "language_info": {
      "name": "python"
    }
  },
  "nbformat": 4,
  "nbformat_minor": 0
}
